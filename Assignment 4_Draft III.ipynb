{
 "cells": [
  {
   "cell_type": "markdown",
   "metadata": {},
   "source": [
    "# MA 755 - Assignment 2\n",
    "\n",
    "by Neha, Katrina, Chengdong"
   ]
  },
  {
   "cell_type": "markdown",
   "metadata": {},
   "source": [
    "## **1. Introduction**\n",
    "\n",
    "## **2. Get the data**\n",
    "    1. Set up the working directory\n",
    "    2. Download and unzip the data file\n",
    "    3. Take a quick look at the data structure\n",
    "    4. Create a train set and a test set\n",
    "  \n",
    "## **3. Data discovery and visualization**\n",
    "    1. Box plot and histogram\n",
    "    2. Examine the correlation\n",
    "\n",
    "## **4. Prepare the data for Machine Learning algorithms**\n",
    "    1. Train set data cleaning - imputing missing values\n",
    "    2. Test set data cleaning - drop rows with missing values\n",
    "\n",
    "## **5. Logistic Regression model**\n",
    "    1. Training and fitting the logistic regression classifier \n",
    "    2. Model evaluation on the test set \n",
    "\n",
    "## **6. Decision tree model**\n",
    "    1. Training and fitting the decision tree classifier    \n",
    "    2. Plotting the decision tree\n",
    "    3. Model evaluation on the test set  \n",
    "\n",
    "## **7. SVM model**\n",
    "    1. Training and fitting the non-linear SVM classifier\n",
    "    2. Fitting the model\n",
    "    3. Model evaluation on the test set\n",
    "\n",
    "## **8. Overfitting**\n",
    "    1. Logistic regression model\n",
    "    2. Decision tree \n",
    "    3. SVM model\n",
    "    \n",
    "## **9. Comparing the performance of the models**\n",
    "    1. Measuring accuracy\n",
    "    2. Confusion matrix\n",
    "    3. Precision and recall\n",
    "    \n",
    "\n",
    "## **10. Conclusion**"
   ]
  },
  {
   "cell_type": "markdown",
   "metadata": {},
   "source": [
    "## 1. Introduction"
   ]
  },
  {
   "cell_type": "markdown",
   "metadata": {},
   "source": [
    "The data we are working on is provided by the U.S department of Education. The data set contains information on College Scorecard, federal financial aid and students' earning records. The data set can help the students make informed educational choices by providing information on federal financial aid, school performance as well as students' long term career outcomes. The data set contains 1743 variables which are organized into 10 categories. The categories cover a broad range of topics such as school, academics, admissions, student, cost, repayment, completion and earnings.\n",
    "\n",
    "Classification is one of the most widely used techniques in machine learning, with a broad array of applications, including sentiment analysis, ad targeting, spam detection, risk assessment, medical diagnosis and image classification. The core goal of this assignment is to implement different machine learning classification algorithms to predict a category or class of the \" Level of institution\" and \" Type of Institution\" from some inputs. \n",
    "\n",
    "The objectives for this assignment are stated below :\n",
    "*  Train three different classification models - Logistic regression, Support Vector Machines and Decision Tree\n",
    "*  Add a regularization term to the model to mitigate overfitting\n",
    "*  Evaluate the performance of each model based on the performance measures to select the best model\n"
   ]
  },
  {
   "cell_type": "markdown",
   "metadata": {},
   "source": [
    "## 2. Get the data"
   ]
  },
  {
   "cell_type": "markdown",
   "metadata": {},
   "source": [
    "### *2.1. Set up the working directory *"
   ]
  },
  {
   "cell_type": "markdown",
   "metadata": {},
   "source": [
    "The first step is to create a workspace. We import the `os` module. Next we us the `getcwd` method to return a string representing the current working directory. Then we use the `chdir` method to change the current working directory to path mentioned. Finally we confirm if our working directory is set to the one specified by calling `getcwd` method again."
   ]
  },
  {
   "cell_type": "code",
   "execution_count": 1,
   "metadata": {
    "collapsed": false
   },
   "outputs": [
    {
     "data": {
      "text/plain": [
       "'C:\\\\Users\\\\katri\\\\Desktop\\\\MA755\\\\Jupyter Notebook\\\\MA-755-Assignment-4-master'"
      ]
     },
     "execution_count": 1,
     "metadata": {},
     "output_type": "execute_result"
    }
   ],
   "source": [
    "import os\n",
    "os.getcwd() "
   ]
  },
  {
   "cell_type": "markdown",
   "metadata": {},
   "source": [
    "The above output tell us that our current working directory is 'C:\\\\Users\\\\Chengdong Liang\\\\Desktop\\\\MA-755-Assignment-2-master (1)\\\\MA-755-Assignment-2-master'"
   ]
  },
  {
   "cell_type": "markdown",
   "metadata": {},
   "source": [
    "###  *2.2. Download and unzip the data file*"
   ]
  },
  {
   "cell_type": "markdown",
   "metadata": {},
   "source": [
    "We import the `os` and `zipfile` modules to fetch our data which is in the form of a zipped file. Next we import the `urllib` module that is used to fetch URLs. `COLLEGE_URL` represents the URL for our data. `COLLEGE_PATH` is the directory created in our working space to download and save the dataset."
   ]
  },
  {
   "cell_type": "markdown",
   "metadata": {},
   "source": [
    "`fetch_college_data` function has two parameters: `college_url` for the url of our dataset and `college_path` for the path in our working space where the data should be downloaded and saved.`makedirs` method is used to create the `datatsets/college` directory and setting `exist_ok` to True tells Python to not raise an error if the directory already exists.`os.path.join` method combines the name of the directory where the data is stored and the name of the data file to create an absolute path to the datafile."
   ]
  },
  {
   "cell_type": "code",
   "execution_count": 2,
   "metadata": {
    "collapsed": true
   },
   "outputs": [],
   "source": [
    "import os\n",
    "import zipfile\n",
    "from six.moves import urllib\n",
    "DOWNLOAD_ROOT = \"https://ed-public-download.apps.cloud.gov/downloads/\"\n",
    "COLLEGE_PATH = \"datasets/college\"\n",
    "COLLEGE_URL = DOWNLOAD_ROOT + \"CollegeScorecard_Raw_Data.zip\"\n",
    "\n",
    "def fetch_college_data(college_url=COLLEGE_URL, college_path=COLLEGE_PATH):\n",
    "    os.makedirs(college_path, exist_ok=True)\n",
    "    zip_path = os.path.join(college_path, \"Raw_Data.zip\")\n",
    "    urllib.request.urlretrieve(college_url, zip_path)\n",
    "    college_zip = zipfile.ZipFile(zip_path)\n",
    "    college_zip.extractall(path=college_path)\n",
    "    college_zip.close()"
   ]
  },
  {
   "cell_type": "markdown",
   "metadata": {},
   "source": [
    "Now we call the function `fetch_college_data`."
   ]
  },
  {
   "cell_type": "code",
   "execution_count": 3,
   "metadata": {
    "collapsed": true
   },
   "outputs": [],
   "source": [
    "fetch_college_data()"
   ]
  },
  {
   "cell_type": "markdown",
   "metadata": {},
   "source": [
    "It creates a `datasets/college` directory in the workspace, downloads the `CollegeScorecard_Raw_Data.zip` file and extracts all files from it in this directory."
   ]
  },
  {
   "cell_type": "markdown",
   "metadata": {},
   "source": [
    "The code below is the function to read in the csv file `MERGED2014_15_PP.csv` to a Pandas DataFrame."
   ]
  },
  {
   "cell_type": "code",
   "execution_count": 4,
   "metadata": {
    "collapsed": true
   },
   "outputs": [],
   "source": [
    "import pandas as pd\n",
    "\n",
    "DATA_PATH= \"datasets/college/CollegeScorecard_Raw_Data\"\n",
    "\n",
    "def load_college_data(data_path=DATA_PATH):\n",
    "    # `data_path` is relative to the directory containing this script\n",
    "    csv_path = os.path.join(data_path, \"MERGED2014_15_PP.csv\")\n",
    "    return pd.read_csv(csv_path, low_memory=False)"
   ]
  },
  {
   "cell_type": "markdown",
   "metadata": {},
   "source": [
    "### *2.3 Take a quick look at the data structure*"
   ]
  },
  {
   "cell_type": "markdown",
   "metadata": {},
   "source": [
    "Next we call the function `load_college_data` which returns a Pandas DataFrame and assign it to `college_original`. We also confirm its type and then look at the first five rows of the DataFrame `college_original` using the `head()` method"
   ]
  },
  {
   "cell_type": "code",
   "execution_count": 5,
   "metadata": {
    "collapsed": false
   },
   "outputs": [
    {
     "name": "stdout",
     "output_type": "stream",
     "text": [
      "<class 'pandas.core.frame.DataFrame'>\n"
     ]
    },
    {
     "data": {
      "text/html": [
       "<div>\n",
       "<table border=\"1\" class=\"dataframe\">\n",
       "  <thead>\n",
       "    <tr style=\"text-align: right;\">\n",
       "      <th></th>\n",
       "      <th>﻿UNITID</th>\n",
       "      <th>OPEID</th>\n",
       "      <th>OPEID6</th>\n",
       "      <th>INSTNM</th>\n",
       "      <th>CITY</th>\n",
       "      <th>STABBR</th>\n",
       "      <th>ZIP</th>\n",
       "      <th>ACCREDAGENCY</th>\n",
       "      <th>INSTURL</th>\n",
       "      <th>NPCURL</th>\n",
       "      <th>...</th>\n",
       "      <th>D100_L4</th>\n",
       "      <th>TRANS_4</th>\n",
       "      <th>DTRANS_4</th>\n",
       "      <th>TRANS_L4</th>\n",
       "      <th>DTRANS_L4</th>\n",
       "      <th>ICLEVEL</th>\n",
       "      <th>UGDS_MEN</th>\n",
       "      <th>UGDS_WOMEN</th>\n",
       "      <th>CDR3_DENOM</th>\n",
       "      <th>CDR2_DENOM</th>\n",
       "    </tr>\n",
       "  </thead>\n",
       "  <tbody>\n",
       "    <tr>\n",
       "      <th>0</th>\n",
       "      <td>100654</td>\n",
       "      <td>100200</td>\n",
       "      <td>1002</td>\n",
       "      <td>Alabama A &amp; M University</td>\n",
       "      <td>Normal</td>\n",
       "      <td>AL</td>\n",
       "      <td>35762</td>\n",
       "      <td>Southern Association of Colleges and Schools C...</td>\n",
       "      <td>www.aamu.edu/</td>\n",
       "      <td>galileo.aamu.edu/netpricecalculator/npcalc.htm</td>\n",
       "      <td>...</td>\n",
       "      <td>NaN</td>\n",
       "      <td>0.0000</td>\n",
       "      <td>1044.0</td>\n",
       "      <td>NaN</td>\n",
       "      <td>NaN</td>\n",
       "      <td>1</td>\n",
       "      <td>0.4831</td>\n",
       "      <td>0.5169</td>\n",
       "      <td>1895.0</td>\n",
       "      <td>NaN</td>\n",
       "    </tr>\n",
       "    <tr>\n",
       "      <th>1</th>\n",
       "      <td>100663</td>\n",
       "      <td>105200</td>\n",
       "      <td>1052</td>\n",
       "      <td>University of Alabama at Birmingham</td>\n",
       "      <td>Birmingham</td>\n",
       "      <td>AL</td>\n",
       "      <td>35294-0110</td>\n",
       "      <td>Southern Association of Colleges and Schools C...</td>\n",
       "      <td>www.uab.edu</td>\n",
       "      <td>www.collegeportraits.org/AL/UAB/estimator/agree</td>\n",
       "      <td>...</td>\n",
       "      <td>NaN</td>\n",
       "      <td>0.2408</td>\n",
       "      <td>1246.0</td>\n",
       "      <td>NaN</td>\n",
       "      <td>NaN</td>\n",
       "      <td>1</td>\n",
       "      <td>0.4169</td>\n",
       "      <td>0.5831</td>\n",
       "      <td>3937.0</td>\n",
       "      <td>NaN</td>\n",
       "    </tr>\n",
       "    <tr>\n",
       "      <th>2</th>\n",
       "      <td>100690</td>\n",
       "      <td>2503400</td>\n",
       "      <td>25034</td>\n",
       "      <td>Amridge University</td>\n",
       "      <td>Montgomery</td>\n",
       "      <td>AL</td>\n",
       "      <td>36117-3553</td>\n",
       "      <td>Southern Association of Colleges and Schools C...</td>\n",
       "      <td>www.amridgeuniversity.edu</td>\n",
       "      <td>www2.amridgeuniversity.edu:9091/</td>\n",
       "      <td>...</td>\n",
       "      <td>NaN</td>\n",
       "      <td>0.0000</td>\n",
       "      <td>9.0</td>\n",
       "      <td>NaN</td>\n",
       "      <td>NaN</td>\n",
       "      <td>1</td>\n",
       "      <td>0.3986</td>\n",
       "      <td>0.6014</td>\n",
       "      <td>344.0</td>\n",
       "      <td>NaN</td>\n",
       "    </tr>\n",
       "    <tr>\n",
       "      <th>3</th>\n",
       "      <td>100706</td>\n",
       "      <td>105500</td>\n",
       "      <td>1055</td>\n",
       "      <td>University of Alabama in Huntsville</td>\n",
       "      <td>Huntsville</td>\n",
       "      <td>AL</td>\n",
       "      <td>35899</td>\n",
       "      <td>Southern Association of Colleges and Schools C...</td>\n",
       "      <td>www.uah.edu</td>\n",
       "      <td>finaid.uah.edu/</td>\n",
       "      <td>...</td>\n",
       "      <td>NaN</td>\n",
       "      <td>0.3477</td>\n",
       "      <td>765.0</td>\n",
       "      <td>NaN</td>\n",
       "      <td>NaN</td>\n",
       "      <td>1</td>\n",
       "      <td>0.5733</td>\n",
       "      <td>0.4267</td>\n",
       "      <td>1513.0</td>\n",
       "      <td>NaN</td>\n",
       "    </tr>\n",
       "    <tr>\n",
       "      <th>4</th>\n",
       "      <td>100724</td>\n",
       "      <td>100500</td>\n",
       "      <td>1005</td>\n",
       "      <td>Alabama State University</td>\n",
       "      <td>Montgomery</td>\n",
       "      <td>AL</td>\n",
       "      <td>36104-0271</td>\n",
       "      <td>Southern Association of Colleges and Schools C...</td>\n",
       "      <td>www.alasu.edu</td>\n",
       "      <td>www.alasu.edu/cost-aid/forms/calculator/index....</td>\n",
       "      <td>...</td>\n",
       "      <td>NaN</td>\n",
       "      <td>0.0000</td>\n",
       "      <td>1330.0</td>\n",
       "      <td>NaN</td>\n",
       "      <td>NaN</td>\n",
       "      <td>1</td>\n",
       "      <td>0.3877</td>\n",
       "      <td>0.6123</td>\n",
       "      <td>2137.0</td>\n",
       "      <td>NaN</td>\n",
       "    </tr>\n",
       "  </tbody>\n",
       "</table>\n",
       "<p>5 rows × 1743 columns</p>\n",
       "</div>"
      ],
      "text/plain": [
       "   ﻿UNITID    OPEID  OPEID6                               INSTNM        CITY  \\\n",
       "0   100654   100200    1002             Alabama A & M University      Normal   \n",
       "1   100663   105200    1052  University of Alabama at Birmingham  Birmingham   \n",
       "2   100690  2503400   25034                   Amridge University  Montgomery   \n",
       "3   100706   105500    1055  University of Alabama in Huntsville  Huntsville   \n",
       "4   100724   100500    1005             Alabama State University  Montgomery   \n",
       "\n",
       "  STABBR         ZIP                                       ACCREDAGENCY  \\\n",
       "0     AL       35762  Southern Association of Colleges and Schools C...   \n",
       "1     AL  35294-0110  Southern Association of Colleges and Schools C...   \n",
       "2     AL  36117-3553  Southern Association of Colleges and Schools C...   \n",
       "3     AL       35899  Southern Association of Colleges and Schools C...   \n",
       "4     AL  36104-0271  Southern Association of Colleges and Schools C...   \n",
       "\n",
       "                     INSTURL  \\\n",
       "0              www.aamu.edu/   \n",
       "1                www.uab.edu   \n",
       "2  www.amridgeuniversity.edu   \n",
       "3                www.uah.edu   \n",
       "4              www.alasu.edu   \n",
       "\n",
       "                                              NPCURL     ...      D100_L4  \\\n",
       "0     galileo.aamu.edu/netpricecalculator/npcalc.htm     ...          NaN   \n",
       "1    www.collegeportraits.org/AL/UAB/estimator/agree     ...          NaN   \n",
       "2                   www2.amridgeuniversity.edu:9091/     ...          NaN   \n",
       "3                                    finaid.uah.edu/     ...          NaN   \n",
       "4  www.alasu.edu/cost-aid/forms/calculator/index....     ...          NaN   \n",
       "\n",
       "   TRANS_4  DTRANS_4  TRANS_L4  DTRANS_L4  ICLEVEL  UGDS_MEN  UGDS_WOMEN  \\\n",
       "0   0.0000    1044.0       NaN        NaN        1    0.4831      0.5169   \n",
       "1   0.2408    1246.0       NaN        NaN        1    0.4169      0.5831   \n",
       "2   0.0000       9.0       NaN        NaN        1    0.3986      0.6014   \n",
       "3   0.3477     765.0       NaN        NaN        1    0.5733      0.4267   \n",
       "4   0.0000    1330.0       NaN        NaN        1    0.3877      0.6123   \n",
       "\n",
       "   CDR3_DENOM  CDR2_DENOM  \n",
       "0      1895.0         NaN  \n",
       "1      3937.0         NaN  \n",
       "2       344.0         NaN  \n",
       "3      1513.0         NaN  \n",
       "4      2137.0         NaN  \n",
       "\n",
       "[5 rows x 1743 columns]"
      ]
     },
     "execution_count": 5,
     "metadata": {},
     "output_type": "execute_result"
    }
   ],
   "source": [
    "college_original = load_college_data()\n",
    "print(type(college_original))\n",
    "college_original.head()"
   ]
  },
  {
   "cell_type": "markdown",
   "metadata": {},
   "source": [
    "The output tells us that `college_original` is a pandas Dataframe. Each row represents one college. There are 1743 attributes (columns). \n",
    "\n",
    "For further analysis, we need to subset this data set to include only our variables of interest."
   ]
  },
  {
   "cell_type": "markdown",
   "metadata": {},
   "source": [
    "### *2.4 Subsetting the data*\n",
    "\n",
    "Based on the original dataset, a new dataframe is created, which includes the variables we mainly focus on:\n",
    "* Dependent variables - 2\n",
    "* Independent variables - 10\n",
    "\n",
    "| **Variables** | **Description**      | **Type** | **Dependent/Independent**  |\n",
    "| ------------- |:-------------:| -----------:|-----------:|\n",
    "|CONTROL| Public or private institution |Categorical| Dependent|\n",
    "|ICLEVEL| Level of institution |Categorical| Dependent|\n",
    "|PCTFLOAN      | Rate of receiving federal loans | Numeric|Independent |\n",
    "|PCTPELL      | Rate of receiving pell grant | Numeric|Independent |\n",
    "| FEMALE      | Percentage of female students      | Numeric|  Independent |\n",
    "| MARRIED | Percentage of married students|Numeric|   Independent |\n",
    "| DEPENDENT |Percentage of married students     |Numeric|    Independent |\n",
    "| VETERAN | Percentage of veteran students     |Numeric|   Independent |\n",
    "|TUITFTE| Net tuition revenue per full-time student |Numeric| Independent|\n",
    "|INEXPFTE|Instructional expenditures per full-time student |Numeric| Independent|\n",
    "|DEP_INC_AVG|Average family income of dependent students |Numeric| Independent|\n",
    "|IND_INC_AVG|Average family income of independent students |Numeric| Independent|\n",
    "\n",
    "Subsetting the DataFrame is done using square brackets and the names of the columns to be selected are placed inside the brackets. The selected columns are put in a new DataFrame called `college`.\n",
    "\n",
    "Let's have a quick look at the first 5 rows of the DataFrame `college` by using the `head()` method."
   ]
  },
  {
   "cell_type": "code",
   "execution_count": 6,
   "metadata": {
    "collapsed": false
   },
   "outputs": [
    {
     "data": {
      "text/html": [
       "<div>\n",
       "<table border=\"1\" class=\"dataframe\">\n",
       "  <thead>\n",
       "    <tr style=\"text-align: right;\">\n",
       "      <th></th>\n",
       "      <th>CONTROL</th>\n",
       "      <th>ICLEVEL</th>\n",
       "      <th>PCTFLOAN</th>\n",
       "      <th>PCTPELL</th>\n",
       "      <th>FEMALE</th>\n",
       "      <th>MARRIED</th>\n",
       "      <th>DEPENDENT</th>\n",
       "      <th>VETERAN</th>\n",
       "      <th>TUITFTE</th>\n",
       "      <th>INEXPFTE</th>\n",
       "      <th>DEP_INC_AVG</th>\n",
       "      <th>IND_INC_AVG</th>\n",
       "    </tr>\n",
       "  </thead>\n",
       "  <tbody>\n",
       "    <tr>\n",
       "      <th>0</th>\n",
       "      <td>1</td>\n",
       "      <td>1</td>\n",
       "      <td>0.8284</td>\n",
       "      <td>0.7356</td>\n",
       "      <td>0.5262741999</td>\n",
       "      <td>0.0165942315</td>\n",
       "      <td>0.8704069538</td>\n",
       "      <td>PrivacySuppressed</td>\n",
       "      <td>9427.0</td>\n",
       "      <td>7437.0</td>\n",
       "      <td>33370.062501</td>\n",
       "      <td>9184.1313978</td>\n",
       "    </tr>\n",
       "    <tr>\n",
       "      <th>1</th>\n",
       "      <td>1</td>\n",
       "      <td>1</td>\n",
       "      <td>0.5214</td>\n",
       "      <td>0.3460</td>\n",
       "      <td>0.6323896753</td>\n",
       "      <td>0.1034554538</td>\n",
       "      <td>0.6883846794</td>\n",
       "      <td>0.0033305579</td>\n",
       "      <td>9899.0</td>\n",
       "      <td>17920.0</td>\n",
       "      <td>59212.341812</td>\n",
       "      <td>28786.1557</td>\n",
       "    </tr>\n",
       "    <tr>\n",
       "      <th>2</th>\n",
       "      <td>2</td>\n",
       "      <td>1</td>\n",
       "      <td>0.7795</td>\n",
       "      <td>0.6801</td>\n",
       "      <td>0.6465256798</td>\n",
       "      <td>0.2386706949</td>\n",
       "      <td>0.1057401813</td>\n",
       "      <td>PrivacySuppressed</td>\n",
       "      <td>12459.0</td>\n",
       "      <td>5532.0</td>\n",
       "      <td>30720.839981</td>\n",
       "      <td>18578.064211</td>\n",
       "    </tr>\n",
       "    <tr>\n",
       "      <th>3</th>\n",
       "      <td>1</td>\n",
       "      <td>1</td>\n",
       "      <td>0.4596</td>\n",
       "      <td>0.3072</td>\n",
       "      <td>0.4766449021</td>\n",
       "      <td>0.1320944249</td>\n",
       "      <td>0.6514314415</td>\n",
       "      <td>0.0090406831</td>\n",
       "      <td>8956.0</td>\n",
       "      <td>10211.0</td>\n",
       "      <td>67430.323934</td>\n",
       "      <td>25117.976718</td>\n",
       "    </tr>\n",
       "    <tr>\n",
       "      <th>4</th>\n",
       "      <td>1</td>\n",
       "      <td>1</td>\n",
       "      <td>0.7554</td>\n",
       "      <td>0.7347</td>\n",
       "      <td>0.6152291105</td>\n",
       "      <td>0.0097708895</td>\n",
       "      <td>0.8564690027</td>\n",
       "      <td>PrivacySuppressed</td>\n",
       "      <td>7733.0</td>\n",
       "      <td>7618.0</td>\n",
       "      <td>33576.943026</td>\n",
       "      <td>6974.2969861</td>\n",
       "    </tr>\n",
       "  </tbody>\n",
       "</table>\n",
       "</div>"
      ],
      "text/plain": [
       "   CONTROL  ICLEVEL  PCTFLOAN  PCTPELL        FEMALE       MARRIED  \\\n",
       "0        1        1    0.8284   0.7356  0.5262741999  0.0165942315   \n",
       "1        1        1    0.5214   0.3460  0.6323896753  0.1034554538   \n",
       "2        2        1    0.7795   0.6801  0.6465256798  0.2386706949   \n",
       "3        1        1    0.4596   0.3072  0.4766449021  0.1320944249   \n",
       "4        1        1    0.7554   0.7347  0.6152291105  0.0097708895   \n",
       "\n",
       "      DEPENDENT            VETERAN  TUITFTE  INEXPFTE   DEP_INC_AVG  \\\n",
       "0  0.8704069538  PrivacySuppressed   9427.0    7437.0  33370.062501   \n",
       "1  0.6883846794       0.0033305579   9899.0   17920.0  59212.341812   \n",
       "2  0.1057401813  PrivacySuppressed  12459.0    5532.0  30720.839981   \n",
       "3  0.6514314415       0.0090406831   8956.0   10211.0  67430.323934   \n",
       "4  0.8564690027  PrivacySuppressed   7733.0    7618.0  33576.943026   \n",
       "\n",
       "    IND_INC_AVG  \n",
       "0  9184.1313978  \n",
       "1    28786.1557  \n",
       "2  18578.064211  \n",
       "3  25117.976718  \n",
       "4  6974.2969861  "
      ]
     },
     "execution_count": 6,
     "metadata": {},
     "output_type": "execute_result"
    }
   ],
   "source": [
    "college=college_original[['CONTROL','ICLEVEL','PCTFLOAN','PCTPELL','FEMALE','MARRIED', 'DEPENDENT', 'VETERAN',\n",
    "                          'TUITFTE', 'INEXPFTE', 'DEP_INC_AVG', 'IND_INC_AVG' ]]\n",
    "college.head()"
   ]
  },
  {
   "cell_type": "markdown",
   "metadata": {},
   "source": [
    "From the first 5 rows of the data, we can observe that there are two variables (`CONTROL` and `ICLEVEL`) that have repetitive values, which indicates that these two variables might be categorical variables. \n",
    "\n",
    "Use the `value_counts()` method to have a closer look at these variables. This method gives us the frequency count for each of the unique values of the variable, arranged from highest to lowest."
   ]
  },
  {
   "cell_type": "code",
   "execution_count": 7,
   "metadata": {
    "collapsed": false,
    "scrolled": true
   },
   "outputs": [
    {
     "data": {
      "text/html": [
       "<div>\n",
       "<table border=\"1\" class=\"dataframe\">\n",
       "  <thead>\n",
       "    <tr style=\"text-align: right;\">\n",
       "      <th></th>\n",
       "      <th>CONTROL</th>\n",
       "      <th>ICLEVEL</th>\n",
       "    </tr>\n",
       "  </thead>\n",
       "  <tbody>\n",
       "    <tr>\n",
       "      <th>1</th>\n",
       "      <td>2044</td>\n",
       "      <td>3281</td>\n",
       "    </tr>\n",
       "    <tr>\n",
       "      <th>2</th>\n",
       "      <td>1956</td>\n",
       "      <td>2249</td>\n",
       "    </tr>\n",
       "    <tr>\n",
       "      <th>3</th>\n",
       "      <td>3703</td>\n",
       "      <td>2173</td>\n",
       "    </tr>\n",
       "  </tbody>\n",
       "</table>\n",
       "</div>"
      ],
      "text/plain": [
       "   CONTROL  ICLEVEL\n",
       "1     2044     3281\n",
       "2     1956     2249\n",
       "3     3703     2173"
      ]
     },
     "execution_count": 7,
     "metadata": {},
     "output_type": "execute_result"
    }
   ],
   "source": [
    "college.iloc[:,0:2].apply(pd.Series.value_counts)"
   ]
  },
  {
   "cell_type": "markdown",
   "metadata": {},
   "source": [
    "The types and levels of the institutions represented by these values are listed below\n",
    "\n",
    "|| **CONTROL** | **ICLEVEL**      \n",
    "| ------------- |:-------------:| -----------:|-----------:|\n",
    "|*1*| Public institutions |4-year institutions |\n",
    "|*2*| Private nonprofit institutions |2-year institutions|\n",
    "|*3*| Private for-profit institutions |Less-than-2-year institutions|\n",
    "\n",
    "So we can see that there are 3703 Private for-profit institutions, 2044 Public institutions and  1956 Private for-profit institutions. In terms of level of institution, there are 3281 4-year institutions, 2249 2-year institutions and 2173 less-than-2-year institutions."
   ]
  },
  {
   "cell_type": "markdown",
   "metadata": {},
   "source": [
    "The code below uses the `info()` method to provide a concise summary of the DataFrame `college`"
   ]
  },
  {
   "cell_type": "code",
   "execution_count": 8,
   "metadata": {
    "collapsed": false
   },
   "outputs": [
    {
     "name": "stdout",
     "output_type": "stream",
     "text": [
      "<class 'pandas.core.frame.DataFrame'>\n",
      "RangeIndex: 7703 entries, 0 to 7702\n",
      "Data columns (total 12 columns):\n",
      "CONTROL        7703 non-null int64\n",
      "ICLEVEL        7703 non-null int64\n",
      "PCTFLOAN       6966 non-null float64\n",
      "PCTPELL        6966 non-null float64\n",
      "FEMALE         7497 non-null object\n",
      "MARRIED        7497 non-null object\n",
      "DEPENDENT      7497 non-null object\n",
      "VETERAN        7497 non-null object\n",
      "TUITFTE        7270 non-null float64\n",
      "INEXPFTE       7270 non-null float64\n",
      "DEP_INC_AVG    7497 non-null object\n",
      "IND_INC_AVG    7497 non-null object\n",
      "dtypes: float64(4), int64(2), object(6)\n",
      "memory usage: 722.2+ KB\n"
     ]
    }
   ],
   "source": [
    "college.info()"
   ]
  },
  {
   "cell_type": "markdown",
   "metadata": {},
   "source": [
    "The output tells us that the DataFrame `college` has 7703 observations. The names of the variables, the number of non-null values and the type are displayed as well. For instance, the variable `PCTFLOAN` has 6966 non-null values and is of type `float`."
   ]
  },
  {
   "cell_type": "markdown",
   "metadata": {},
   "source": [
    "From the general information, as shown above, it can be seen that the variables `FEMALE`, `MARRIED`, `DEPENDENT`, `VETERAN`, `DEP_INC_AVG`, `IND_INC_AVG` are not numeric. `CONTROL` and `ICLEVEL` should be categorical. Therefore, we need to change the type of these variables. \n",
    "\n",
    "`to_numeric()` method takes a Pandas series as input and converts it to numeric, coercing when told to by setting `errors` to `coerce`. `as.type(category)` allows us to convert a column to a categorical variable."
   ]
  },
  {
   "cell_type": "code",
   "execution_count": 9,
   "metadata": {
    "collapsed": false
   },
   "outputs": [
    {
     "name": "stderr",
     "output_type": "stream",
     "text": [
      "C:\\Users\\katri\\Anaconda3\\lib\\site-packages\\ipykernel\\__main__.py:2: SettingWithCopyWarning: \n",
      "A value is trying to be set on a copy of a slice from a DataFrame.\n",
      "Try using .loc[row_indexer,col_indexer] = value instead\n",
      "\n",
      "See the caveats in the documentation: http://pandas.pydata.org/pandas-docs/stable/indexing.html#indexing-view-versus-copy\n",
      "  from ipykernel import kernelapp as app\n",
      "C:\\Users\\katri\\Anaconda3\\lib\\site-packages\\ipykernel\\__main__.py:5: SettingWithCopyWarning: \n",
      "A value is trying to be set on a copy of a slice from a DataFrame.\n",
      "Try using .loc[row_indexer,col_indexer] = value instead\n",
      "\n",
      "See the caveats in the documentation: http://pandas.pydata.org/pandas-docs/stable/indexing.html#indexing-view-versus-copy\n"
     ]
    }
   ],
   "source": [
    "for col in college[['FEMALE', 'MARRIED', 'DEPENDENT', 'VETERAN', 'DEP_INC_AVG', 'IND_INC_AVG']]:\n",
    "    college[col]= pd.to_numeric(college[col], errors='coerce')\n",
    "\n",
    "for col in college[['CONTROL', 'ICLEVEL']]:\n",
    "    college[col]= college[col].astype('category')"
   ]
  },
  {
   "cell_type": "markdown",
   "metadata": {},
   "source": [
    "Next we use the `info()` method to check whether the data type of these variables has been changed."
   ]
  },
  {
   "cell_type": "code",
   "execution_count": 10,
   "metadata": {
    "collapsed": false
   },
   "outputs": [
    {
     "name": "stdout",
     "output_type": "stream",
     "text": [
      "<class 'pandas.core.frame.DataFrame'>\n",
      "RangeIndex: 7703 entries, 0 to 7702\n",
      "Data columns (total 12 columns):\n",
      "CONTROL        7703 non-null category\n",
      "ICLEVEL        7703 non-null category\n",
      "PCTFLOAN       6966 non-null float64\n",
      "PCTPELL        6966 non-null float64\n",
      "FEMALE         6354 non-null float64\n",
      "MARRIED        6540 non-null float64\n",
      "DEPENDENT      6947 non-null float64\n",
      "VETERAN        3295 non-null float64\n",
      "TUITFTE        7270 non-null float64\n",
      "INEXPFTE       7270 non-null float64\n",
      "DEP_INC_AVG    6963 non-null float64\n",
      "IND_INC_AVG    6963 non-null float64\n",
      "dtypes: category(2), float64(10)\n",
      "memory usage: 617.0 KB\n"
     ]
    }
   ],
   "source": [
    "college.info()"
   ]
  },
  {
   "cell_type": "markdown",
   "metadata": {},
   "source": [
    "From the output, we can observe that all variables have been assigned the proper data type."
   ]
  },
  {
   "cell_type": "markdown",
   "metadata": {},
   "source": [
    "### *2.4 Create a train set and a test set*"
   ]
  },
  {
   "cell_type": "markdown",
   "metadata": {},
   "source": [
    "Split the dataset into a train set train_set and a test set test_set. 80% of the data will be used as the training set (named `train_set`), and 20% used as the test set (named `test_set`)."
   ]
  },
  {
   "cell_type": "code",
   "execution_count": 11,
   "metadata": {
    "collapsed": true
   },
   "outputs": [],
   "source": [
    "from sklearn.model_selection import train_test_split\n",
    "\n",
    "train_set, test_set = train_test_split(college, test_size=0.2, random_state=42)"
   ]
  },
  {
   "cell_type": "markdown",
   "metadata": {},
   "source": [
    "This gives us our training set `train_set` and our test set `test_set`."
   ]
  },
  {
   "cell_type": "markdown",
   "metadata": {},
   "source": [
    "## 3. Data discovery and visualization"
   ]
  },
  {
   "cell_type": "markdown",
   "metadata": {},
   "source": [
    "Create a copy of the training set to start exploring."
   ]
  },
  {
   "cell_type": "code",
   "execution_count": 12,
   "metadata": {
    "collapsed": true
   },
   "outputs": [],
   "source": [
    "college = train_set.copy()"
   ]
  },
  {
   "cell_type": "markdown",
   "metadata": {},
   "source": [
    "### *3.1 Box plot and histogram*"
   ]
  },
  {
   "cell_type": "markdown",
   "metadata": {},
   "source": [
    "We first load the required libraries for visualization."
   ]
  },
  {
   "cell_type": "code",
   "execution_count": 13,
   "metadata": {
    "collapsed": true
   },
   "outputs": [],
   "source": [
    "%matplotlib inline \n",
    "import matplotlib.pyplot as plt\n",
    "import seaborn as sns"
   ]
  },
  {
   "cell_type": "markdown",
   "metadata": {},
   "source": [
    "The code below gives the count of the number of each level of institution (`ICLEVEL`) for the type of institution (`CONTROL`)."
   ]
  },
  {
   "cell_type": "code",
   "execution_count": 14,
   "metadata": {
    "collapsed": false
   },
   "outputs": [
    {
     "data": {
      "image/png": "[encoded data removed]",
      "text/plain": [
       "<matplotlib.figure.Figure at 0x29ce81e6f28>"
      ]
     },
     "metadata": {},
     "output_type": "display_data"
    }
   ],
   "source": [
    "sns.countplot(x=\"CONTROL\", hue=\"ICLEVEL\", data=college);"
   ]
  },
  {
   "cell_type": "markdown",
   "metadata": {},
   "source": [
    "According to the plot, most of the public colleges (`CONTROL`=1) provide 2-year level of education (`ICLEVEL`=2). Most of the private non-profit colleges (`CONTROL`=2) provide 4-year level of education(`ICLEVEL`=1). For the private for-profit (`CONTROL`=3), most offer less-than-2-year level of education(`ICLEVEL`=3)."
   ]
  },
  {
   "cell_type": "markdown",
   "metadata": {},
   "source": [
    "The boxplot, as shown below, displays the distribution of variable `PCTFLOAN` and variable `PCTPELL` in each type of institution (that is, group by `CONTROL`)."
   ]
  },
  {
   "cell_type": "code",
   "execution_count": 15,
   "metadata": {
    "collapsed": false
   },
   "outputs": [
    {
     "data": {
      "text/plain": [
       "array([<matplotlib.axes._subplots.AxesSubplot object at 0x0000029C81B0AF28>,\n",
       "       <matplotlib.axes._subplots.AxesSubplot object at 0x0000029C81BA6F98>], dtype=object)"
      ]
     },
     "execution_count": 15,
     "metadata": {},
     "output_type": "execute_result"
    },
    {
     "data": {
      "image/png": "[encoded data removed]",
      "text/plain": [
       "<matplotlib.figure.Figure at 0x29c81b037b8>"
      ]
     },
     "metadata": {},
     "output_type": "display_data"
    }
   ],
   "source": [
    "college.boxplot(column=[\"PCTFLOAN\",\"PCTPELL\"], by=\"CONTROL\")"
   ]
  },
  {
   "cell_type": "markdown",
   "metadata": {},
   "source": [
    "* From the first boxplot, we know that the rate of receiving federal loan is the lowest in the public institutions (`CONTROL`=1), and the rate of receiving federal loan is the highest in the private for-profit institutions (`CONTROL`=3).\n",
    "* Unlike the first boxplot, the second boxplot shows that the private non-profit institutions, instead of public institutions, have the lowest rate of receiving Pell Grand. The private for-profit institutions has the highest rate of receiving Pell Grand. "
   ]
  },
  {
   "cell_type": "markdown",
   "metadata": {},
   "source": [
    "The two boxplots, as shown below, demonstrate the distribution of variable `DEP_INC_AVG` (average family income of dependent students) and variable `IND_INC_AVG` (average family income of independent students) in each type of institution (that is, group by CONTROL)."
   ]
  },
  {
   "cell_type": "code",
   "execution_count": 16,
   "metadata": {
    "collapsed": false
   },
   "outputs": [
    {
     "data": {
      "text/plain": [
       "array([<matplotlib.axes._subplots.AxesSubplot object at 0x0000029C81D2AB38>,\n",
       "       <matplotlib.axes._subplots.AxesSubplot object at 0x0000029C81D8AA90>], dtype=object)"
      ]
     },
     "execution_count": 16,
     "metadata": {},
     "output_type": "execute_result"
    },
    {
     "data": {
      "image/png": "[encoded data removed]",
      "text/plain": [
       "<matplotlib.figure.Figure at 0x29c81d096a0>"
      ]
     },
     "metadata": {},
     "output_type": "display_data"
    }
   ],
   "source": [
    "college.boxplot(column=[\"PCTFLOAN\",\"PCTPELL\"], by=\"CONTROL\")"
   ]
  },
  {
   "cell_type": "markdown",
   "metadata": {},
   "source": [
    "From both boxplots, we know that the average family income for both dependent students and independent students are the highest in the private non-profit institutions (`CONTROL`=2), and lowest in the private for-profit institutions (`CONTROL`=3).\n",
    "\n",
    "Overall, the average family income for independent students are lower than the average family income for dependent students in each type of institution. "
   ]
  },
  {
   "cell_type": "markdown",
   "metadata": {},
   "source": [
    "The four sets of plots, as shown below, display the histogram of the percentage of female students, married students, dependent students and veterans, respectively, grouped by level and the type of institutions. "
   ]
  },
  {
   "cell_type": "code",
   "execution_count": 17,
   "metadata": {
    "collapsed": false
   },
   "outputs": [
    {
     "data": {
      "image/png": "[encoded data removed]",
      "text/plain": [
       "<matplotlib.figure.Figure at 0x29c81f09470>"
      ]
     },
     "metadata": {},
     "output_type": "display_data"
    }
   ],
   "source": [
    "g = sns.FacetGrid(college, col=\"CONTROL\",hue=\"ICLEVEL\")\n",
    "g.map(plt.hist, \"FEMALE\");"
   ]
  },
  {
   "cell_type": "markdown",
   "metadata": {},
   "source": [
    "From the histogram above, most of public colleges (`CONTROL` = 1) and private non-profit colleges (`CONTROL` = 2) have approximately 60% of female students while the range of percentage of females student in private for-profit colleges is between 70% and 100%. "
   ]
  },
  {
   "cell_type": "code",
   "execution_count": 18,
   "metadata": {
    "collapsed": false
   },
   "outputs": [
    {
     "data": {
      "image/png": "[encoded data removed]",
      "text/plain": [
       "<matplotlib.figure.Figure at 0x29c8220c668>"
      ]
     },
     "metadata": {},
     "output_type": "display_data"
    }
   ],
   "source": [
    "g = sns.FacetGrid(college, col=\"CONTROL\",hue=\"ICLEVEL\")\n",
    "g.map(plt.hist, \"MARRIED\");"
   ]
  },
  {
   "cell_type": "markdown",
   "metadata": {},
   "source": [
    "From the histogram above, for public institutions (`CONTROL`=1), those that provide 2-year education and 4-year education have around 10% of married students while whose that provide less-than-2-year education have around 25% of married students. Most private non-profit schools provide 4-year education (`ICLEVEL`=1) and most of institutions in this type have less than 10% of married students. While, most private for-profit schools provide less-than-2-year education (`ICLEVEL`=3) and most institutions in this type have around 15% of married students. "
   ]
  },
  {
   "cell_type": "code",
   "execution_count": 19,
   "metadata": {
    "collapsed": false
   },
   "outputs": [
    {
     "data": {
      "image/png": "[encoded data removed]",
      "text/plain": [
       "<matplotlib.figure.Figure at 0x29c824d76a0>"
      ]
     },
     "metadata": {},
     "output_type": "display_data"
    }
   ],
   "source": [
    "g = sns.FacetGrid(college, col=\"CONTROL\",hue=\"ICLEVEL\")\n",
    "g.map(plt.hist, \"DEPENDENT\");"
   ]
  },
  {
   "cell_type": "markdown",
   "metadata": {},
   "source": [
    "From the histogram above, the private for-profit schools has the highest frequency of dependent students. For public institutions (`CONTROL`=1), most provide 2-year education. For this type of institutions, those with 2-year education have around 50% of dependent students, those with 4-year education have around 10% of dependent students and those with less-than-2-year education have around 80% of dependent students. Most private non-profit schools provide 4-year education while most private for-profit schools provide less-than-2-year education."
   ]
  },
  {
   "cell_type": "code",
   "execution_count": 20,
   "metadata": {
    "collapsed": false
   },
   "outputs": [
    {
     "data": {
      "image/png": "[encoded data removed]",
      "text/plain": [
       "<matplotlib.figure.Figure at 0x29c81eccc50>"
      ]
     },
     "metadata": {},
     "output_type": "display_data"
    }
   ],
   "source": [
    "g = sns.FacetGrid(college, col=\"CONTROL\",hue=\"ICLEVEL\")\n",
    "g.map(plt.hist, \"VETERAN\");"
   ]
  },
  {
   "cell_type": "markdown",
   "metadata": {},
   "source": [
    "From the histogram above, the public and private non-profit schools have less than 0.5% of veterans while the average percentage of veterans in private for-profit schools have veterans is 0.5%. The public institutions that have veterans usually provide 2-year education and most private institutions that have veterans usually provide 4-year education. "
   ]
  },
  {
   "cell_type": "markdown",
   "metadata": {},
   "source": [
    "### *3.2 Examine the correlation*"
   ]
  },
  {
   "cell_type": "markdown",
   "metadata": {},
   "source": [
    "We use the `corr()` method to compute pairwise correlation of columns, excluding NA/null values."
   ]
  },
  {
   "cell_type": "code",
   "execution_count": 21,
   "metadata": {
    "collapsed": false
   },
   "outputs": [
    {
     "data": {
      "text/plain": [
       "array([[<matplotlib.axes._subplots.AxesSubplot object at 0x0000029C8299ADA0>,\n",
       "        <matplotlib.axes._subplots.AxesSubplot object at 0x0000029C827EBCC0>,\n",
       "        <matplotlib.axes._subplots.AxesSubplot object at 0x0000029C82584240>,\n",
       "        <matplotlib.axes._subplots.AxesSubplot object at 0x0000029C82600320>,\n",
       "        <matplotlib.axes._subplots.AxesSubplot object at 0x0000029C827320B8>,\n",
       "        <matplotlib.axes._subplots.AxesSubplot object at 0x0000029C82732710>,\n",
       "        <matplotlib.axes._subplots.AxesSubplot object at 0x0000029C8246F518>,\n",
       "        <matplotlib.axes._subplots.AxesSubplot object at 0x0000029C821BEEB8>,\n",
       "        <matplotlib.axes._subplots.AxesSubplot object at 0x0000029C81F4EF60>],\n",
       "       [<matplotlib.axes._subplots.AxesSubplot object at 0x0000029C81A8C2B0>,\n",
       "        <matplotlib.axes._subplots.AxesSubplot object at 0x0000029C82202EF0>,\n",
       "        <matplotlib.axes._subplots.AxesSubplot object at 0x0000029C82478D30>,\n",
       "        <matplotlib.axes._subplots.AxesSubplot object at 0x0000029C825D5780>,\n",
       "        <matplotlib.axes._subplots.AxesSubplot object at 0x0000029C8227C7F0>,\n",
       "        <matplotlib.axes._subplots.AxesSubplot object at 0x0000029C822B8240>,\n",
       "        <matplotlib.axes._subplots.AxesSubplot object at 0x0000029C822A39B0>,\n",
       "        <matplotlib.axes._subplots.AxesSubplot object at 0x0000029C81F6ECC0>,\n",
       "        <matplotlib.axes._subplots.AxesSubplot object at 0x0000029C81F47630>],\n",
       "       [<matplotlib.axes._subplots.AxesSubplot object at 0x0000029C8240F6A0>,\n",
       "        <matplotlib.axes._subplots.AxesSubplot object at 0x0000029C82526FD0>,\n",
       "        <matplotlib.axes._subplots.AxesSubplot object at 0x0000029C81FF1198>,\n",
       "        <matplotlib.axes._subplots.AxesSubplot object at 0x0000029C8236B6D8>,\n",
       "        <matplotlib.axes._subplots.AxesSubplot object at 0x0000029C81FB8DA0>,\n",
       "        <matplotlib.axes._subplots.AxesSubplot object at 0x0000029C820DFBE0>,\n",
       "        <matplotlib.axes._subplots.AxesSubplot object at 0x0000029C82184860>,\n",
       "        <matplotlib.axes._subplots.AxesSubplot object at 0x0000029C82B004A8>,\n",
       "        <matplotlib.axes._subplots.AxesSubplot object at 0x0000029C82B5C320>],\n",
       "       [<matplotlib.axes._subplots.AxesSubplot object at 0x0000029C82BBFE48>,\n",
       "        <matplotlib.axes._subplots.AxesSubplot object at 0x0000029C82BCF588>,\n",
       "        <matplotlib.axes._subplots.AxesSubplot object at 0x0000029C82C86908>,\n",
       "        <matplotlib.axes._subplots.AxesSubplot object at 0x0000029C82CF3278>,\n",
       "        <matplotlib.axes._subplots.AxesSubplot object at 0x0000029C82D4B1D0>,\n",
       "        <matplotlib.axes._subplots.AxesSubplot object at 0x0000029C82DB0A20>,\n",
       "        <matplotlib.axes._subplots.AxesSubplot object at 0x0000029C82E07C88>,\n",
       "        <matplotlib.axes._subplots.AxesSubplot object at 0x0000029C82E77240>,\n",
       "        <matplotlib.axes._subplots.AxesSubplot object at 0x0000029C82ED62E8>],\n",
       "       [<matplotlib.axes._subplots.AxesSubplot object at 0x0000029C82F3BC50>,\n",
       "        <matplotlib.axes._subplots.AxesSubplot object at 0x0000029C82F9A630>,\n",
       "        <matplotlib.axes._subplots.AxesSubplot object at 0x0000029C83007198>,\n",
       "        <matplotlib.axes._subplots.AxesSubplot object at 0x0000029C830620F0>,\n",
       "        <matplotlib.axes._subplots.AxesSubplot object at 0x0000029C830C7CF8>,\n",
       "        <matplotlib.axes._subplots.AxesSubplot object at 0x0000029C8311AB70>,\n",
       "        <matplotlib.axes._subplots.AxesSubplot object at 0x0000029C8318C6D8>,\n",
       "        <matplotlib.axes._subplots.AxesSubplot object at 0x0000029C831A4860>,\n",
       "        <matplotlib.axes._subplots.AxesSubplot object at 0x0000029C83252198>],\n",
       "       [<matplotlib.axes._subplots.AxesSubplot object at 0x0000029C832B7AC8>,\n",
       "        <matplotlib.axes._subplots.AxesSubplot object at 0x0000029C832FAEF0>,\n",
       "        <matplotlib.axes._subplots.AxesSubplot object at 0x0000029C83368A58>,\n",
       "        <matplotlib.axes._subplots.AxesSubplot object at 0x0000029C833C8160>,\n",
       "        <matplotlib.axes._subplots.AxesSubplot object at 0x0000029C8342FBA8>,\n",
       "        <matplotlib.axes._subplots.AxesSubplot object at 0x0000029C8348F4A8>,\n",
       "        <matplotlib.axes._subplots.AxesSubplot object at 0x0000029C834F5FD0>,\n",
       "        <matplotlib.axes._subplots.AxesSubplot object at 0x0000029C8354EF28>,\n",
       "        <matplotlib.axes._subplots.AxesSubplot object at 0x0000029C835B7B70>],\n",
       "       [<matplotlib.axes._subplots.AxesSubplot object at 0x0000029C836149E8>,\n",
       "        <matplotlib.axes._subplots.AxesSubplot object at 0x0000029C8367F550>,\n",
       "        <matplotlib.axes._subplots.AxesSubplot object at 0x0000029C8369BD68>,\n",
       "        <matplotlib.axes._subplots.AxesSubplot object at 0x0000029C8373DFD0>,\n",
       "        <matplotlib.axes._subplots.AxesSubplot object at 0x0000029C837AA940>,\n",
       "        <matplotlib.axes._subplots.AxesSubplot object at 0x0000029C83805898>,\n",
       "        <matplotlib.axes._subplots.AxesSubplot object at 0x0000029C83872128>,\n",
       "        <matplotlib.axes._subplots.AxesSubplot object at 0x0000029C838C8390>,\n",
       "        <matplotlib.axes._subplots.AxesSubplot object at 0x0000029C8392F908>],\n",
       "       [<matplotlib.axes._subplots.AxesSubplot object at 0x0000029C839909B0>,\n",
       "        <matplotlib.axes._subplots.AxesSubplot object at 0x0000029C839FD358>,\n",
       "        <matplotlib.axes._subplots.AxesSubplot object at 0x0000029C83A56CF8>,\n",
       "        <matplotlib.axes._subplots.AxesSubplot object at 0x0000029C83AC0860>,\n",
       "        <matplotlib.axes._subplots.AxesSubplot object at 0x0000029C83B1B7B8>,\n",
       "        <matplotlib.axes._subplots.AxesSubplot object at 0x0000029C83B88400>,\n",
       "        <matplotlib.axes._subplots.AxesSubplot object at 0x0000029C83BE3278>,\n",
       "        <matplotlib.axes._subplots.AxesSubplot object at 0x0000029C83C45DA0>,\n",
       "        <matplotlib.axes._subplots.AxesSubplot object at 0x0000029C83C62080>],\n",
       "       [<matplotlib.axes._subplots.AxesSubplot object at 0x0000029C83CE4F60>,\n",
       "        <matplotlib.axes._subplots.AxesSubplot object at 0x0000029C83D569B0>,\n",
       "        <matplotlib.axes._subplots.AxesSubplot object at 0x0000029C83DB50F0>,\n",
       "        <matplotlib.axes._subplots.AxesSubplot object at 0x0000029C83E215F8>,\n",
       "        <matplotlib.axes._subplots.AxesSubplot object at 0x0000029C83E71B70>,\n",
       "        <matplotlib.axes._subplots.AxesSubplot object at 0x0000029C83EE2208>,\n",
       "        <matplotlib.axes._subplots.AxesSubplot object at 0x0000029C83F411D0>,\n",
       "        <matplotlib.axes._subplots.AxesSubplot object at 0x0000029C83FA6B38>,\n",
       "        <matplotlib.axes._subplots.AxesSubplot object at 0x0000029C84007518>]], dtype=object)"
      ]
     },
     "execution_count": 21,
     "metadata": {},
     "output_type": "execute_result"
    },
    {
     "data": {
      "image/png": "[encoded data removed]",
      "text/plain": [
       "<matplotlib.figure.Figure at 0x29c82753cf8>"
      ]
     },
     "metadata": {},
     "output_type": "display_data"
    }
   ],
   "source": [
    "corr_matrix = college.corr()\n",
    "from pandas.tools.plotting import scatter_matrix\n",
    "attributes = [\"PCTFLOAN\",\"PCTPELL\",\"FEMALE\",\"DEPENDENT\",\"VETERAN\",\"TUITFTE\",\"INEXPFTE\",\"DEP_INC_AVG\",\"IND_INC_AVG\"]\n",
    "scatter_matrix(college[attributes], figsize=(8, 8))"
   ]
  },
  {
   "cell_type": "markdown",
   "metadata": {},
   "source": [
    "From the scatterplot matrix, as shown above, we obviously can capture two relationships between variables.\n",
    "* `PCTFLOAN` and `PCTPELL` are positively correlated\n",
    "* `DEP_INC_AVG` and `IND_INC_AVG` are positively correlated"
   ]
  },
  {
   "cell_type": "markdown",
   "metadata": {},
   "source": [
    "Let's have a closer look at the relationships between `PCTFLOAN` (the rate of receiving federal loan) and `PCTPELL`(the rate of receiving Pell Grant). Different colors represent different types of institutions (`CONTROL`)"
   ]
  },
  {
   "cell_type": "code",
   "execution_count": 22,
   "metadata": {
    "collapsed": false,
    "scrolled": true
   },
   "outputs": [
    {
     "data": {
      "text/plain": [
       "<seaborn.axisgrid.FacetGrid at 0x29c84710630>"
      ]
     },
     "execution_count": 22,
     "metadata": {},
     "output_type": "execute_result"
    },
    {
     "data": {
      "image/png": "[encoded data removed]",
      "text/plain": [
       "<matplotlib.figure.Figure at 0x29c84094ef0>"
      ]
     },
     "metadata": {},
     "output_type": "display_data"
    }
   ],
   "source": [
    "sns.lmplot(\"PCTFLOAN\", \"PCTPELL\", data=college, fit_reg=False,hue=\"CONTROL\")"
   ]
  },
  {
   "cell_type": "markdown",
   "metadata": {},
   "source": [
    "The plot shows that, in general, there is a positive relationships between `PCTFLOAN` and `PCTPELL` for each type of institution, which indicates that the higher the rate of receiving federal loan, the higher the rate of receiving Pell Grant as well in the same institution; verse vice. However, some institutions do not offer federal loan no matter how high the rate of receiving Pell Grant in these institutions.  "
   ]
  },
  {
   "cell_type": "markdown",
   "metadata": {},
   "source": [
    "## 4. Prepare the data for Machine Learning algorithms"
   ]
  },
  {
   "cell_type": "markdown",
   "metadata": {},
   "source": [
    "We now create a new copy of the `train_set` and separate two target variables from independent variables. The DataFrame `college` contains the predictors,  and the DataFrame `college_type` has `CONTROL` and `ICLEVEL`. We confirm their dimensions."
   ]
  },
  {
   "cell_type": "code",
   "execution_count": 14,
   "metadata": {
    "collapsed": false
   },
   "outputs": [
    {
     "name": "stdout",
     "output_type": "stream",
     "text": [
      "(6162, 10)\n",
      "(6162, 2)\n"
     ]
    }
   ],
   "source": [
    "college = train_set.drop([\"CONTROL\",\"ICLEVEL\"], axis=1)\n",
    "college_type = train_set[[ \"CONTROL\", \"ICLEVEL\"]].copy()\n",
    "print(college.shape)\n",
    "print(college_type.shape)"
   ]
  },
  {
   "cell_type": "markdown",
   "metadata": {},
   "source": [
    "### *4.1 Train set data cleaning - imputing missing values*"
   ]
  },
  {
   "cell_type": "markdown",
   "metadata": {},
   "source": [
    "Most Machine Learning algorithms cannot work with missing features, so let's create a few functions to take care of them. We compute the median value on the training set and use it to fill the missing values in the training set."
   ]
  },
  {
   "cell_type": "code",
   "execution_count": 15,
   "metadata": {
    "collapsed": true
   },
   "outputs": [],
   "source": [
    "from sklearn.preprocessing import Imputer\n",
    "\n",
    "imputer = Imputer(strategy=\"median\")"
   ]
  },
  {
   "cell_type": "markdown",
   "metadata": {},
   "source": [
    "Then we use the `fit()` method to add `imputer` instance to the dataframe `college` which contains our independent variables. \n",
    "\n",
    "The `Imputer` class helps to impute missing values, either using mean, median or the most frequent value of the row or column where missing values are located."
   ]
  },
  {
   "cell_type": "code",
   "execution_count": 16,
   "metadata": {
    "collapsed": false
   },
   "outputs": [
    {
     "data": {
      "text/plain": [
       "Imputer(axis=0, copy=True, missing_values='NaN', strategy='median', verbose=0)"
      ]
     },
     "execution_count": 16,
     "metadata": {},
     "output_type": "execute_result"
    }
   ],
   "source": [
    "imputer.fit(college)"
   ]
  },
  {
   "cell_type": "markdown",
   "metadata": {},
   "source": [
    "Now, replace missing values by the computed medians in order to transform the training set:"
   ]
  },
  {
   "cell_type": "code",
   "execution_count": 17,
   "metadata": {
    "collapsed": false
   },
   "outputs": [],
   "source": [
    "X = imputer.transform(college)"
   ]
  },
  {
   "cell_type": "markdown",
   "metadata": {},
   "source": [
    "Because the result is a Numpy array with transformed features. We can change the result to a Pandas DataFrame."
   ]
  },
  {
   "cell_type": "code",
   "execution_count": 18,
   "metadata": {
    "collapsed": false
   },
   "outputs": [],
   "source": [
    "college_ind = pd.DataFrame(X, columns=college.columns)"
   ]
  },
  {
   "cell_type": "code",
   "execution_count": 19,
   "metadata": {
    "collapsed": false,
    "scrolled": true
   },
   "outputs": [
    {
     "name": "stdout",
     "output_type": "stream",
     "text": [
      "<class 'pandas.core.frame.DataFrame'>\n",
      "RangeIndex: 6162 entries, 0 to 6161\n",
      "Data columns (total 10 columns):\n",
      "PCTFLOAN       6162 non-null float64\n",
      "PCTPELL        6162 non-null float64\n",
      "FEMALE         6162 non-null float64\n",
      "MARRIED        6162 non-null float64\n",
      "DEPENDENT      6162 non-null float64\n",
      "VETERAN        6162 non-null float64\n",
      "TUITFTE        6162 non-null float64\n",
      "INEXPFTE       6162 non-null float64\n",
      "DEP_INC_AVG    6162 non-null float64\n",
      "IND_INC_AVG    6162 non-null float64\n",
      "dtypes: float64(10)\n",
      "memory usage: 481.5 KB\n"
     ]
    }
   ],
   "source": [
    "college_ind.info()"
   ]
  },
  {
   "cell_type": "markdown",
   "metadata": {},
   "source": [
    "The DataFrame has 6162 observations for each variable and no missing values as we have imputed all of them.\n",
    "\n",
    "For the last step, we need to transform two target variables into 1d array  in order to fit the model."
   ]
  },
  {
   "cell_type": "code",
   "execution_count": 20,
   "metadata": {
    "collapsed": true
   },
   "outputs": [],
   "source": [
    "train_target_control = college_type[['CONTROL']].values.ravel()\n",
    "train_target_iclevel = college_type[['ICLEVEL']].values.ravel()"
   ]
  },
  {
   "cell_type": "markdown",
   "metadata": {
    "collapsed": true
   },
   "source": [
    "### *4.2 Test set data cleaning - drop rows with missing value*"
   ]
  },
  {
   "cell_type": "markdown",
   "metadata": {},
   "source": [
    "In order to evaluate the final model on the test set, we need to deal with missing values in the test set. Here we choose to drop observations in the test set with missing values"
   ]
  },
  {
   "cell_type": "code",
   "execution_count": 23,
   "metadata": {
    "collapsed": true
   },
   "outputs": [],
   "source": [
    "test_set_na = test_set.dropna().copy()\n",
    "\n",
    "test_ind = test_set_na.drop([\"CONTROL\",\"ICLEVEL\"], axis=1)\n",
    "test_type = test_set_na[[ \"CONTROL\", \"ICLEVEL\"]].copy()"
   ]
  },
  {
   "cell_type": "markdown",
   "metadata": {},
   "source": [
    "And then we need to transform two target variables into 1d array in order to fit the model in the test set."
   ]
  },
  {
   "cell_type": "code",
   "execution_count": 24,
   "metadata": {
    "collapsed": false
   },
   "outputs": [],
   "source": [
    "test_target_control = test_set_na[['CONTROL']].values.ravel()\n",
    "test_target_iclevel = test_set_na[['ICLEVEL']].values.ravel()"
   ]
  },
  {
   "cell_type": "markdown",
   "metadata": {},
   "source": [
    "This gives us `test_target_control` as the test set for `CONTROL` variable and `test_target_iclevel` as the test set for `ICLEVEL` variable."
   ]
  },
  {
   "cell_type": "markdown",
   "metadata": {},
   "source": [
    "## 5. Logistic Regression\n",
    "Load required libraries and functions that are used for the logistic regression."
   ]
  },
  {
   "cell_type": "code",
   "execution_count": 25,
   "metadata": {
    "collapsed": true
   },
   "outputs": [],
   "source": [
    "import sklearn.linear_model    as sk_lm\n",
    "import sklearn.multiclass      as sk_mc\n",
    "import sklearn.model_selection as sk_ms\n",
    "import sklearn.preprocessing   as sk_pp\n",
    "import sklearn.metrics         as sk_me\n",
    "\n",
    "from sklearn.linear_model    import SGDClassifier\n",
    "from sklearn.metrics         import confusion_matrix\n",
    "from sklearn.linear_model    import LogisticRegression\n",
    "from sklearn.metrics         import precision_score\n",
    "from sklearn.preprocessing import StandardScaler\n",
    "\n",
    "from sklearn.pipeline import Pipeline\n",
    "from sklearn.preprocessing import PolynomialFeatures"
   ]
  },
  {
   "cell_type": "markdown",
   "metadata": {},
   "source": [
    "### 5.1 Training and fitting the model\n",
    "\n",
    "#### Model for Variable `CONTROL`\n",
    "Inside the pipeline, we create the classifier by using the LogisticRegression classifier and scale dataset to increase the accuracy."
   ]
  },
  {
   "cell_type": "code",
   "execution_count": 26,
   "metadata": {
    "collapsed": true
   },
   "outputs": [],
   "source": [
    "from sklearn.pipeline import Pipeline\n",
    "train_fit_control = Pipeline((\n",
    "(\"scaler\", StandardScaler()),\n",
    "(\"log_clf\", LogisticRegression(solver='liblinear',\n",
    "                             random_state=42))\n",
    "))"
   ]
  },
  {
   "cell_type": "markdown",
   "metadata": {},
   "source": [
    "Based on the training set, we create the model, which means determine $\\theta$."
   ]
  },
  {
   "cell_type": "code",
   "execution_count": 27,
   "metadata": {
    "collapsed": false
   },
   "outputs": [
    {
     "data": {
      "text/plain": [
       "Pipeline(steps=(('scaler', StandardScaler(copy=True, with_mean=True, with_std=True)), ('log_clf', LogisticRegression(C=1.0, class_weight=None, dual=False, fit_intercept=True,\n",
       "          intercept_scaling=1, max_iter=100, multi_class='ovr', n_jobs=1,\n",
       "          penalty='l2', random_state=42, solver='liblinear', tol=0.0001,\n",
       "          verbose=0, warm_start=False))))"
      ]
     },
     "execution_count": 27,
     "metadata": {},
     "output_type": "execute_result"
    }
   ],
   "source": [
    "train_fit_control.fit(college_ind, train_target_control)"
   ]
  },
  {
   "cell_type": "markdown",
   "metadata": {},
   "source": [
    "Calculate the predictions, that is, the predicted y equals to the round values of predicted probability."
   ]
  },
  {
   "cell_type": "code",
   "execution_count": 28,
   "metadata": {
    "collapsed": true
   },
   "outputs": [],
   "source": [
    "train_predict_control  = train_fit_control.predict(college_ind)\n",
    "test_predict_control  = train_fit_control.predict(test_ind)"
   ]
  },
  {
   "cell_type": "markdown",
   "metadata": {},
   "source": [
    "Calculate the probabilities $\\hat{p}$ by using the `predict_proba` method."
   ]
  },
  {
   "cell_type": "code",
   "execution_count": 29,
   "metadata": {
    "collapsed": true
   },
   "outputs": [],
   "source": [
    "train_proba_control = train_fit_control.predict_proba(college_ind)\n",
    "test_proba_control = train_fit_control.predict_proba(test_ind)"
   ]
  },
  {
   "cell_type": "markdown",
   "metadata": {},
   "source": [
    "Find the decision scores by the `decision_function` method."
   ]
  },
  {
   "cell_type": "code",
   "execution_count": 30,
   "metadata": {
    "collapsed": true
   },
   "outputs": [],
   "source": [
    "train_decision_control = train_fit_control.decision_function(college_ind)\n",
    "test_decision_control = train_fit_control.decision_function(test_ind)"
   ]
  },
  {
   "cell_type": "markdown",
   "metadata": {},
   "source": [
    "#### Model for Variable `ICLEVEL`\n",
    "\n",
    "Since the steps are the same with those for the variable `CONTROL`, the following code is the simple version of codes that were used above. "
   ]
  },
  {
   "cell_type": "code",
   "execution_count": 31,
   "metadata": {
    "collapsed": true
   },
   "outputs": [],
   "source": [
    "train_fit_iclevel = Pipeline((\n",
    "(\"scaler\", StandardScaler()),\n",
    "(\"log_clf\", LogisticRegression(solver='liblinear',\n",
    "                             random_state=42))\n",
    "))\n",
    "train_fit_iclevel.fit(college_ind, train_target_iclevel)\n",
    "\n",
    "train_predict_iclevel  = train_fit_iclevel.predict(college_ind)\n",
    "test_predict_iclevel  =  train_fit_iclevel.predict(test_ind)\n",
    "\n",
    "train_decision_iclevel = train_fit_iclevel.decision_function(college_ind)\n",
    "test_decision_iclevel = train_fit_iclevel.decision_function(test_ind)"
   ]
  },
  {
   "cell_type": "markdown",
   "metadata": {},
   "source": [
    "###  5.2 Model evaluation on the test set\n",
    "#### 5.2.1 Confusion matrix\n",
    "The confusion matrix is used to evaluate the performance of the classifier. The columns represent the instances in the predicted class and the rows represent the instances in the actual class. \n",
    "\n",
    "#### For target variable `CONTROL`\n",
    "Since we have predicted the target variable in the test set by applying the model that is built on the training set, we can compare the predicted classification of our target variable and the actual classification to see whether the model fits well on the test set."
   ]
  },
  {
   "cell_type": "code",
   "execution_count": 32,
   "metadata": {
    "collapsed": false
   },
   "outputs": [
    {
     "data": {
      "text/html": [
       "<div>\n",
       "<table border=\"1\" class=\"dataframe\">\n",
       "  <thead>\n",
       "    <tr style=\"text-align: right;\">\n",
       "      <th></th>\n",
       "      <th>0</th>\n",
       "      <th>1</th>\n",
       "      <th>2</th>\n",
       "    </tr>\n",
       "  </thead>\n",
       "  <tbody>\n",
       "    <tr>\n",
       "      <th>0</th>\n",
       "      <td>215</td>\n",
       "      <td>4</td>\n",
       "      <td>1</td>\n",
       "    </tr>\n",
       "    <tr>\n",
       "      <th>1</th>\n",
       "      <td>14</td>\n",
       "      <td>24</td>\n",
       "      <td>11</td>\n",
       "    </tr>\n",
       "    <tr>\n",
       "      <th>2</th>\n",
       "      <td>9</td>\n",
       "      <td>25</td>\n",
       "      <td>288</td>\n",
       "    </tr>\n",
       "  </tbody>\n",
       "</table>\n",
       "</div>"
      ],
      "text/plain": [
       "     0   1    2\n",
       "0  215   4    1\n",
       "1   14  24   11\n",
       "2    9  25  288"
      ]
     },
     "execution_count": 32,
     "metadata": {},
     "output_type": "execute_result"
    }
   ],
   "source": [
    "control_log_pre_test= train_fit_control.predict(test_ind)\n",
    "conf_mx_control=pd.DataFrame(sk_me.confusion_matrix(control_log_pre_test, \n",
    "                       test_type[['CONTROL']]))\n",
    "conf_mx_control"
   ]
  },
  {
   "cell_type": "markdown",
   "metadata": {},
   "source": [
    "From the result, we know that 215 observations are correctly assigned to class 0, 24 observations are correctly assigned to class 1 and 288 observations are correctly assigned to class 2. The classifier does not perform very well on classifying class 1 because there are around 49% of observations that should belong to class 1 are mis-classified. "
   ]
  },
  {
   "cell_type": "code",
   "execution_count": 33,
   "metadata": {
    "collapsed": false
   },
   "outputs": [
    {
     "data": {
      "image/png": "[encoded data removed]",
      "text/plain": [
       "<matplotlib.figure.Figure at 0x248d8b26f60>"
      ]
     },
     "metadata": {},
     "output_type": "display_data"
    }
   ],
   "source": [
    "plt.matshow(conf_mx_control, cmap=plt.cm.gray)\n",
    "plt.show()"
   ]
  },
  {
   "cell_type": "markdown",
   "metadata": {},
   "source": [
    "The confusion matrix shows that the classifier performs well because most observations are on the main diagonal (the brighter the area is, the more observations that area have), which indicates those observations were classified to a right group.\n",
    "\n",
    "The classifier performs best on classifying class 2, and second best on classifying class 0, and third best on classifying class 1."
   ]
  },
  {
   "cell_type": "markdown",
   "metadata": {},
   "source": [
    "#### For target variable `ICLEVEL`\n",
    "The following set of codes are about target variable `ICLEVEL`."
   ]
  },
  {
   "cell_type": "code",
   "execution_count": 34,
   "metadata": {
    "collapsed": false
   },
   "outputs": [
    {
     "data": {
      "text/html": [
       "<div>\n",
       "<table border=\"1\" class=\"dataframe\">\n",
       "  <thead>\n",
       "    <tr style=\"text-align: right;\">\n",
       "      <th></th>\n",
       "      <th>0</th>\n",
       "      <th>1</th>\n",
       "      <th>2</th>\n",
       "    </tr>\n",
       "  </thead>\n",
       "  <tbody>\n",
       "    <tr>\n",
       "      <th>0</th>\n",
       "      <td>195</td>\n",
       "      <td>62</td>\n",
       "      <td>23</td>\n",
       "    </tr>\n",
       "    <tr>\n",
       "      <th>1</th>\n",
       "      <td>25</td>\n",
       "      <td>106</td>\n",
       "      <td>9</td>\n",
       "    </tr>\n",
       "    <tr>\n",
       "      <th>2</th>\n",
       "      <td>40</td>\n",
       "      <td>64</td>\n",
       "      <td>67</td>\n",
       "    </tr>\n",
       "  </tbody>\n",
       "</table>\n",
       "</div>"
      ],
      "text/plain": [
       "     0    1   2\n",
       "0  195   62  23\n",
       "1   25  106   9\n",
       "2   40   64  67"
      ]
     },
     "execution_count": 34,
     "metadata": {},
     "output_type": "execute_result"
    }
   ],
   "source": [
    "iclevel_log_pre_test= train_fit_iclevel.predict(test_ind)\n",
    "conf_mx_iclevel=pd.DataFrame(sk_me.confusion_matrix(iclevel_log_pre_test, \n",
    "                       test_type[['ICLEVEL']]))\n",
    "conf_mx_iclevel"
   ]
  },
  {
   "cell_type": "markdown",
   "metadata": {},
   "source": [
    "From the result, we know that 195 observations are correctly assigned to class 0, 106 observations are correctly assigned to class 1 and 67 observations are correctly assigned to class 2."
   ]
  },
  {
   "cell_type": "code",
   "execution_count": 35,
   "metadata": {
    "collapsed": false
   },
   "outputs": [
    {
     "data": {
      "image/png": "[encoded data removed]",
      "text/plain": [
       "<matplotlib.figure.Figure at 0x248d9d64080>"
      ]
     },
     "metadata": {},
     "output_type": "display_data"
    }
   ],
   "source": [
    "plt.matshow(conf_mx_iclevel, cmap=plt.cm.gray)\n",
    "plt.show()"
   ]
  },
  {
   "cell_type": "markdown",
   "metadata": {},
   "source": [
    "The confusion matrix shows that the classifier performs well because most observations are on the main diagonal (the brighter the area is, the more observations that area have), which indicates those observations were classified to a right group.\n",
    "\n",
    "The classifier performs well on classifying class 0 and class 2 and not really well on classifying class 1. For the row of class 1, we can notice that the number of observations that should be class 1 were correctly classified is not much more than those that were misclassified, because the corresponding area is not obviously brighter than the other two areas on that row."
   ]
  },
  {
   "cell_type": "markdown",
   "metadata": {},
   "source": [
    "#### 5.2.2 Accuracy score\n",
    "\n",
    "The following code calculates the accuracy score when applying the model based on the training set to the test set for predicting the target categorical variable. \n",
    "\n",
    "However, the accuracy is not the preferred performance measure for classifiers, especially when dealing with datasets (that is, when some classes are much more frequent than others). Therefore, we usually use other evaluation methods such as confusion metric to evaluate the classifier.\n",
    "\n",
    "#### For target variable `CONTROL`\n",
    "The following set of codes are about target variable `CONTROL`."
   ]
  },
  {
   "cell_type": "code",
   "execution_count": 37,
   "metadata": {
    "collapsed": false
   },
   "outputs": [
    {
     "name": "stdout",
     "output_type": "stream",
     "text": [
      "Accuracy score: 0.891708967851\n"
     ]
    }
   ],
   "source": [
    "from sklearn.metrics import accuracy_score\n",
    "print (\"Accuracy score:\", accuracy_score(test_target_control, test_predict_control))"
   ]
  },
  {
   "cell_type": "markdown",
   "metadata": {},
   "source": [
    "From the result, we know that the average accuracy score is around 0.8917, indicating that around 89.17% of observations are correctly classified on test set. Therefore, the classifier is fairly good as a whole."
   ]
  },
  {
   "cell_type": "markdown",
   "metadata": {},
   "source": [
    "#### For target variable `ICLEVEL`\n",
    "The following set of codes are about target variable `ICLEVEL`."
   ]
  },
  {
   "cell_type": "code",
   "execution_count": 38,
   "metadata": {
    "collapsed": false
   },
   "outputs": [
    {
     "name": "stdout",
     "output_type": "stream",
     "text": [
      "Accuracy score: 0.622673434856\n"
     ]
    }
   ],
   "source": [
    "print (\"Accuracy score:\", accuracy_score(test_target_iclevel, test_predict_iclevel))"
   ]
  },
  {
   "cell_type": "markdown",
   "metadata": {},
   "source": [
    "From the result, we know that the average accuracy score is around 0.6227. It means that around 62.27% of observations were correctly classified on test set, which indicates the classifier does not perform very well on classifying the target variable `ICLEVEL`."
   ]
  },
  {
   "cell_type": "markdown",
   "metadata": {},
   "source": [
    "#### 5.2.3 Precision and Recall\n",
    "* Precision: the accuracy of the positive predictions\n",
    "* Recall: the percentage of positive instances that are correctly detected by the classifier (also called sensitivity or True Positive Rate) \n",
    "\n",
    "\\begin{align}\n",
    "    precision & = \\frac{TP}{TP+FP}  = \\frac{\\text{correct positive predictions}}{\\text{positive predictions}} \n",
    "\\\\  recall    & = \\frac{TP}{TP+FN}  = \\frac{\\text{correct positive predictions}}{\\text{actual positives}}\n",
    "\\end{align}\n",
    "\n",
    "Since we have calculated the predicated classification of the target variable on test set, we can use the `sklearn.metrics` to find precision and recall as we as other relevant parameters such as f1-score and support to evaluate the classifier.\n",
    "\n",
    "`Note`: f1-score - the harmonic mean of precision and recall. \n",
    "* The classifier will only get a high F1 score if both recall and precision are high\n",
    "\n",
    "\\begin{align}\n",
    "    F_{1} & = \\frac{2}{(\\frac{1}{precision})(\\frac{1}{recall})}  =2×\\frac{precision×recall}{precision+recall}= \\frac{TP}{TP+(\\frac{FN+FP}{2})}\n",
    "\\end{align}"
   ]
  },
  {
   "cell_type": "markdown",
   "metadata": {},
   "source": [
    "#### For target variable `CONTROL`"
   ]
  },
  {
   "cell_type": "code",
   "execution_count": 45,
   "metadata": {
    "collapsed": false
   },
   "outputs": [
    {
     "name": "stdout",
     "output_type": "stream",
     "text": [
      "             precision    recall  f1-score   support\n",
      "\n",
      "          1       0.98      0.90      0.94       238\n",
      "          2       0.49      0.45      0.47        53\n",
      "          3       0.89      0.96      0.93       300\n",
      "\n",
      "avg / total       0.89      0.89      0.89       591\n",
      "\n"
     ]
    }
   ],
   "source": [
    "print(sk_me.classification_report(test_target_control, test_predict_control))"
   ]
  },
  {
   "cell_type": "markdown",
   "metadata": {},
   "source": [
    "The following table is the summary and interpretations based on the result above:\n",
    "\n",
    "| **Class** | **Precision**      | **Recall** \n",
    "| ---- |:---------------------:| :-----------------:\n",
    "|1| 98% predicted class 1 are actually in class 1|90% actual class 1 are identified as class 1\n",
    "|2| 49% predicted class 2 are actually in class 2 |45% actual class 2 are identified as class 2\n",
    "|3| 89% predicted class 3 are actually in class 3|96% actual class 3 are identified as class 3\n",
    "\n",
    "The classifier does not perform well on classifying the class 2 when applying to the test set."
   ]
  },
  {
   "cell_type": "markdown",
   "metadata": {},
   "source": [
    "#### For target variable `ICLEVEL`"
   ]
  },
  {
   "cell_type": "code",
   "execution_count": 46,
   "metadata": {
    "collapsed": false
   },
   "outputs": [
    {
     "name": "stdout",
     "output_type": "stream",
     "text": [
      "             precision    recall  f1-score   support\n",
      "\n",
      "          1       0.70      0.75      0.72       260\n",
      "          2       0.76      0.46      0.57       232\n",
      "          3       0.39      0.68      0.50        99\n",
      "\n",
      "avg / total       0.67      0.62      0.62       591\n",
      "\n"
     ]
    }
   ],
   "source": [
    "print(sk_me.classification_report(test_target_iclevel, test_predict_iclevel))"
   ]
  },
  {
   "cell_type": "markdown",
   "metadata": {},
   "source": [
    "The following table is the summary and interpretations based on the result above:\n",
    "\n",
    "| **Class** | **Precision**      | **Recall** \n",
    "| ---- |:---------------------:| :-----------------:\n",
    "|1| 70% predicted class 1 are actually in class 1|75% actual class 1 are identified as class 1\n",
    "|2| 76% predicted class 2 are actually in class 2 |46% actual class 2 are identified as class 2\n",
    "|3| 39% predicted class 3 are actually in class 3|68% actual class 3 are identified as class 3\n",
    "\n",
    "As a whole, the classifier does not perform very well on classifying the level of institution (`ICLEVEL`)."
   ]
  },
  {
   "cell_type": "markdown",
   "metadata": {},
   "source": [
    "#### 5.2.4 Probabilities and ROC curve\n",
    "\n",
    "ROC curve\n",
    "* Definition: a plot about the True Positive Rate (also called Recall) against the False Positive Rate. \n",
    "* Property: the higher the True Positive Rate is, the more the false positive rate the classifier will produce. \n",
    "* The dotted line: means that the corresponding ROC curve is based on a purely random classifier. \n",
    "* How to evaluate: the further the ROC curve away from this line, the better the classifier will be. \n",
    "\n",
    "AUC:\n",
    "* Definition: Area Under the ROC Curve \n",
    "* ROC AUC =1 for a perfect classifier \n",
    "* ROC AUC =0.5 for a purely random classifier"
   ]
  },
  {
   "cell_type": "markdown",
   "metadata": {},
   "source": [
    "We have calculated the decision scores on test set, which named `test_decision_control` and `test_decision_iclevel` and we will use it to calcuate the ROC AUC.\n",
    "\n",
    "#### For target variable `CONTROL`\n",
    "Step 1: Binarize the output"
   ]
  },
  {
   "cell_type": "code",
   "execution_count": 47,
   "metadata": {
    "collapsed": true
   },
   "outputs": [],
   "source": [
    "from sklearn.preprocessing import label_binarize\n",
    "y = label_binarize(test_target_control, classes=[0, 1, 2])\n",
    "n_classes = y.shape[1]"
   ]
  },
  {
   "cell_type": "markdown",
   "metadata": {},
   "source": [
    "Step 2: Compute ROC curve and ROC area \n",
    "* We need to first transform our target variable by using one-hot vector in order to calculate the ROC and AUC "
   ]
  },
  {
   "cell_type": "code",
   "execution_count": 48,
   "metadata": {
    "collapsed": false
   },
   "outputs": [
    {
     "data": {
      "text/plain": [
       "array([[0, 1, 0],\n",
       "       [1, 0, 0],\n",
       "       [1, 0, 0],\n",
       "       ..., \n",
       "       [0, 0, 1],\n",
       "       [0, 0, 1],\n",
       "       [1, 0, 0]])"
      ]
     },
     "execution_count": 48,
     "metadata": {},
     "output_type": "execute_result"
    }
   ],
   "source": [
    "from sklearn.preprocessing import LabelBinarizer\n",
    "encoder = LabelBinarizer()\n",
    "test_target_control_1hot = encoder.fit_transform(test_target_control)\n",
    "test_target_control_1hot"
   ]
  },
  {
   "cell_type": "markdown",
   "metadata": {},
   "source": [
    "* Compute ROC curve and ROC area for each class by using the for loop."
   ]
  },
  {
   "cell_type": "code",
   "execution_count": 49,
   "metadata": {
    "collapsed": true
   },
   "outputs": [],
   "source": [
    "from sklearn.metrics import roc_curve, auc\n",
    "fpr = dict()\n",
    "tpr = dict()\n",
    "roc_auc = dict()\n",
    "for i in range(n_classes):\n",
    "    fpr[i], tpr[i], _ = roc_curve(test_target_control_1hot[:, i], test_decision_control[:, i])\n",
    "    roc_auc[i] = auc(fpr[i], tpr[i])"
   ]
  },
  {
   "cell_type": "markdown",
   "metadata": {},
   "source": [
    "Step 3: Plot all ROC curves of three classes."
   ]
  },
  {
   "cell_type": "code",
   "execution_count": 50,
   "metadata": {
    "collapsed": false
   },
   "outputs": [
    {
     "data": {
      "image/png": "[encoded data removed]",
      "text/plain": [
       "<matplotlib.figure.Figure at 0x29c859ecc50>"
      ]
     },
     "metadata": {},
     "output_type": "display_data"
    }
   ],
   "source": [
    "import matplotlib.pyplot as plt\n",
    "from itertools import cycle\n",
    "plt.figure()\n",
    "\n",
    "colors = cycle(['aqua', 'darkorange', 'cornflowerblue'])\n",
    "for i, color in zip(range(n_classes), colors):\n",
    "    plt.plot(fpr[i], tpr[i], color=color, \n",
    "             label='ROC curve of class {0} (area = {1:0.2f})'\n",
    "             ''.format(i+1, roc_auc[i]))\n",
    "\n",
    "plt.plot([0, 1], [0, 1], 'k--')\n",
    "plt.xlim([0.0, 1.0])\n",
    "plt.ylim([0.0, 1.05])\n",
    "plt.xlabel('False Positive Rate')\n",
    "plt.ylabel('True Positive Rate')\n",
    "plt.title('Some extension of Receiver operating characteristic to multi-class')\n",
    "plt.legend(loc=\"lower right\")\n",
    "plt.show()"
   ]
  },
  {
   "cell_type": "markdown",
   "metadata": {},
   "source": [
    "From the output, we know that the classifier did a good job when classifying class 1 and class 2 since both curves are at the left-top corner; however, it does not perform very well when classifying class 3 since it is closer to the dotted line."
   ]
  },
  {
   "cell_type": "markdown",
   "metadata": {},
   "source": [
    "#### For target variable `ICLEVEL`"
   ]
  },
  {
   "cell_type": "code",
   "execution_count": 51,
   "metadata": {
    "collapsed": false
   },
   "outputs": [
    {
     "data": {
      "image/png": "[encoded data removed]",
      "text/plain": [
       "<matplotlib.figure.Figure at 0x29c859e2cc0>"
      ]
     },
     "metadata": {},
     "output_type": "display_data"
    }
   ],
   "source": [
    "#Step 1 Binarize the output\n",
    "from sklearn.preprocessing import label_binarize\n",
    "y = label_binarize(test_target_iclevel, classes=[0, 1, 2])\n",
    "n_classes = y.shape[1]\n",
    "#Step 2.1 Use one-hot vector\n",
    "from sklearn.preprocessing import LabelBinarizer\n",
    "encoder = LabelBinarizer()\n",
    "test_target_iclevel_1hot = encoder.fit_transform(test_target_iclevel)\n",
    "test_target_iclevel_1hot\n",
    "#Step 2.2 Compute ROC curve and ROC area\n",
    "from sklearn.metrics import roc_curve, auc\n",
    "fpr = dict()\n",
    "tpr = dict()\n",
    "roc_auc = dict()\n",
    "for i in range(n_classes):\n",
    "    fpr[i], tpr[i], _ = roc_curve(test_target_iclevel_1hot[:, i], test_decision_iclevel[:, i])\n",
    "    roc_auc[i] = auc(fpr[i], tpr[i])\n",
    "#Step 3  Plot all ROC curves of three classes\n",
    "import matplotlib.pyplot as plt\n",
    "from itertools import cycle\n",
    "plt.figure()\n",
    "colors = cycle(['aqua', 'darkorange', 'cornflowerblue'])\n",
    "for i, color in zip(range(n_classes), colors):\n",
    "    plt.plot(fpr[i], tpr[i], color=color, \n",
    "             label='ROC curve of class {0} (area = {1:0.2f})'\n",
    "             ''.format(i+1, roc_auc[i]))\n",
    "\n",
    "plt.plot([0, 1], [0, 1], 'k--')\n",
    "plt.xlim([0.0, 1.0])\n",
    "plt.ylim([0.0, 1.05])\n",
    "plt.xlabel('False Positive Rate')\n",
    "plt.ylabel('True Positive Rate')\n",
    "plt.title('Some extension of Receiver operating characteristic to multi-class')\n",
    "plt.legend(loc=\"lower right\")\n",
    "plt.show()"
   ]
  },
  {
   "cell_type": "markdown",
   "metadata": {},
   "source": [
    "From the output, we know that the classifier performs fairly well on classifying the target variable `ICLEVEL` because all three ROC curves are only not very close to the left-corner but also not very close to the dotted line; therefore, I would say that the classifier is not bad."
   ]
  },
  {
   "cell_type": "markdown",
   "metadata": {},
   "source": [
    "## 6. Decision tree\n",
    "Load required libraries and functions that are used for the Decision Tree."
   ]
  },
  {
   "cell_type": "code",
   "execution_count": 39,
   "metadata": {
    "collapsed": false
   },
   "outputs": [],
   "source": [
    "import numpy             as np\n",
    "import pandas            as pd\n",
    "\n",
    "%matplotlib inline\n",
    "import matplotlib        as mpl\n",
    "import matplotlib.pyplot as plt\n",
    "import pydotplus         as pdp\n",
    "import seaborn           as sea\n",
    "\n",
    "import sklearn.metrics         as sk_me\n",
    "import sklearn.model_selection as sk_ms\n",
    "import sklearn.linear_model    as sk_lm\n",
    "import sklearn.preprocessing   as sk_pp\n",
    "import sklearn.multiclass      as sk_mc\n",
    "import sklearn.datasets        as sk_ds\n",
    "import sklearn.tree            as sk_dt\n",
    "import sklearn.pipeline        as sk_pl\n",
    "import sklearn.svm             as sk_sv\n",
    "import sklearn.neighbors       as sk_nb\n",
    "\n",
    "import scipy.stats             as sp_st\n",
    "import IPython.display         as ip_d\n",
    "import pickle                  as pickle"
   ]
  },
  {
   "cell_type": "markdown",
   "metadata": {},
   "source": [
    "Then we separate the dataset into `college` containing the predictors, `college_target_control` containing the target variable `CONTROL` and `college_target_iclevel` containing the target variable `ICLEVEL`."
   ]
  },
  {
   "cell_type": "markdown",
   "metadata": {},
   "source": [
    "### 6.1 Train and fit Decision Tree classifier\n",
    "\n",
    "#### Model for Variable `CONTROL`"
   ]
  },
  {
   "cell_type": "markdown",
   "metadata": {},
   "source": [
    "We first train a Decision Tree classifier for target variable `CONTROL`. The `min_samples_split` is set to 1200 to ensure that the split only occurs when there are more than 1200 observations. This reduces the chances of the tree becoming very large."
   ]
  },
  {
   "cell_type": "code",
   "execution_count": null,
   "metadata": {
    "collapsed": false
   },
   "outputs": [],
   "source": [
    "dt_control  = sk_dt.DecisionTreeClassifier(min_samples_split=1200,random_state=42)"
   ]
  },
  {
   "cell_type": "markdown",
   "metadata": {},
   "source": [
    "Next we fit the classifier to the training data."
   ]
  },
  {
   "cell_type": "code",
   "execution_count": null,
   "metadata": {
    "collapsed": false
   },
   "outputs": [],
   "source": [
    "dt_control.fit(college_ind, train_target_control)"
   ]
  },
  {
   "cell_type": "markdown",
   "metadata": {},
   "source": [
    "The following code makes the predictions for `CONTROL` target variable."
   ]
  },
  {
   "cell_type": "code",
   "execution_count": null,
   "metadata": {
    "collapsed": true
   },
   "outputs": [],
   "source": [
    "train_predict_control  = dt_control.predict(college_ind)\n",
    "test_predict_control  = dt_control.predict(test_ind)"
   ]
  },
  {
   "cell_type": "markdown",
   "metadata": {},
   "source": [
    "Then we calculate the predicted probabilities for the predictions."
   ]
  },
  {
   "cell_type": "code",
   "execution_count": null,
   "metadata": {
    "collapsed": true
   },
   "outputs": [],
   "source": [
    "train_proba_control = dt_control.predict_proba(college_ind)\n",
    "test_proba_control = dt_control.predict_proba(test_ind)"
   ]
  },
  {
   "cell_type": "markdown",
   "metadata": {},
   "source": [
    "#### Model for Variable `ICLEVEL`"
   ]
  },
  {
   "cell_type": "markdown",
   "metadata": {},
   "source": [
    "We now train a Decision Tree classifier for target variable `ICLEVEL`."
   ]
  },
  {
   "cell_type": "code",
   "execution_count": null,
   "metadata": {
    "collapsed": true
   },
   "outputs": [],
   "source": [
    "dt_iclevel  = sk_dt.DecisionTreeClassifier(min_samples_split=1200,random_state=42)"
   ]
  },
  {
   "cell_type": "code",
   "execution_count": null,
   "metadata": {
    "collapsed": false
   },
   "outputs": [],
   "source": [
    "dt_iclevel.fit(college_ind, train_target_iclevel)"
   ]
  },
  {
   "cell_type": "code",
   "execution_count": null,
   "metadata": {
    "collapsed": false
   },
   "outputs": [],
   "source": [
    "train_predict_iclevel  = dt_iclevel.predict(college_ind)\n",
    "test_predict_iclevel  = dt_iclevel.predict(test_ind)"
   ]
  },
  {
   "cell_type": "code",
   "execution_count": null,
   "metadata": {
    "collapsed": true
   },
   "outputs": [],
   "source": [
    "train_proba_iclevel = dt_iclevel.predict_proba(college_ind)\n",
    "test_proba_iclevel = dt_iclevel.predict_proba(test_ind)"
   ]
  },
  {
   "cell_type": "markdown",
   "metadata": {},
   "source": [
    "###  6.2 Plotting decision tree"
   ]
  },
  {
   "cell_type": "markdown",
   "metadata": {},
   "source": [
    "#### Tree Graph for Variable `CONTROL`"
   ]
  },
  {
   "cell_type": "code",
   "execution_count": null,
   "metadata": {
    "collapsed": false
   },
   "outputs": [],
   "source": [
    "import warnings\n",
    "warnings.filterwarnings('ignore')\n",
    "from IPython.display import Image\n",
    "import pydotplus\n",
    "graph = sk_dt.export_graphviz(dt_control, \n",
    "                              out_file=None, \n",
    "                              feature_names=['PCTFLOAN','PCTPELL','FEMALE','MARRIED', 'DEPENDENT', 'VETERAN',\n",
    "                          'TUITFTE', 'INEXPFTE', 'DEP_INC_AVG', 'IND_INC_AVG' ],  \n",
    "                              class_names=['Public','Priv_non','Priv_prof'],  \n",
    "                              filled=True, \n",
    "                              rounded=True,  \n",
    "                              special_characters=True)\n",
    "                               \n",
    "\n",
    "    \n",
    "gif= pydotplus.graph_from_dot_data(graph)\n",
    "Image(gif.create_png())"
   ]
  },
  {
   "cell_type": "markdown",
   "metadata": {},
   "source": [
    "This decision tree is used for classiying the observations based on their values for the target variable `CONTROL`.The top-level node of the decision tree tells us that all observations have the percentage of dependent students less than or equal to 40.5%. Out of a total of 6162 observations, 1626 observations were classified as Public institutions, 1575 observations were classified as Private non-profit institutions and 2961 observations as Private profit insitutions. The gini index for this node is 0.6341.\n",
    "\n",
    "Under the top-level mode, the tuition expenditure of students further splits the node. For those rows where the tution exepnditure is <= $3,848 (left node), there are 2758 colleges. Out of these colleges, 336 colleges were classified as Public institutions, 278 observations were classified as Private non-profit institutions and 2144 observations as Private profit insitutions. The gini index for this node is 0.3707. \n",
    "\n",
    "Else if the the tution exepnditure is <= $8087.5,(right node), there are 3404 colleges. This process of splitting continues based on an independent variables, such that the impurity is minimized at each step."
   ]
  },
  {
   "cell_type": "markdown",
   "metadata": {},
   "source": [
    "#### Tree Graph for Variable `ICLEVEL`"
   ]
  },
  {
   "cell_type": "code",
   "execution_count": null,
   "metadata": {
    "collapsed": false
   },
   "outputs": [],
   "source": [
    "import warnings\n",
    "warnings.filterwarnings('ignore')\n",
    "from IPython.display import Image\n",
    "import pydotplus\n",
    "graph = sk_dt.export_graphviz(dt_iclevel, \n",
    "                              out_file=None, \n",
    "                              feature_names=['PCTFLOAN','PCTPELL','FEMALE','MARRIED', 'DEPENDENT', 'VETERAN',\n",
    "                          'TUITFTE', 'INEXPFTE', 'DEP_INC_AVG', 'IND_INC_AVG' ],  \n",
    "                             class_names=['4year','2year','Lessthan2'], \n",
    "                              filled=True, \n",
    "                              rounded=True,  \n",
    "                              special_characters=True)\n",
    "                               \n",
    "\n",
    "    \n",
    "gif= pydotplus.graph_from_dot_data(graph)\n",
    "Image(gif.create_png())"
   ]
  },
  {
   "cell_type": "markdown",
   "metadata": {},
   "source": [
    "This decision tree is used for classiying the observations based on their values for the target variable `ICLEVEL`. The top-level node of the decision tree tells us that all observations have the percentage of dependent students less than or equal to 65.77%. Out of a total of 6162 observations, 2620 observations were classified as 4 year institutions, 1800 observations were classified as 2 year institutions and 1742 observations as less than 2 year insitutions. The gini index for this node is 0.654. Since majority of the rows (2620 out of 6162) in this node are classified as 4 year institutions, the node is classfied as 4 year institutions.\n",
    "\n",
    "Under the top-level mode, the tuition expenditure of students further splits the node. For those rows where the tution exepnditure is <= $3,742 (right node), there are 1239 colleges. Out of these colleges, 1078 colleges were classified as 4 year institutions, 141 observations were classified as 2 year institutions and 20 observations as less than 2 year insitutions. The gini index for this node is 0.2298. \n",
    "\n",
    "Else if the average income of independent students is <= $17,884,(left node), there are 4923 colleges. This process of splitting continues based on an independent variables, such that the impurity is minimized at each step."
   ]
  },
  {
   "cell_type": "markdown",
   "metadata": {},
   "source": [
    "###  6.3 Model evaluation on the test set\n",
    "\n",
    "#### 6.3.1 Confusion matrix\n",
    "#### For target variable `CONTROL`"
   ]
  },
  {
   "cell_type": "code",
   "execution_count": null,
   "metadata": {
    "collapsed": false
   },
   "outputs": [],
   "source": [
    "control_dt_pre_test = dt_control.predict(test_ind)\n",
    "pd.DataFrame(sk_me.confusion_matrix(control_dt_pre_test, test_type[['CONTROL']]))"
   ]
  },
  {
   "cell_type": "markdown",
   "metadata": {},
   "source": [
    "From the confusion matrix, we know that 218 observations are correctly assigned to class 0, 14 observations are correctly assigned to class 1 and 280 observations are correctly assigned to class 2."
   ]
  },
  {
   "cell_type": "markdown",
   "metadata": {
    "collapsed": false
   },
   "source": [
    "#### For target variable `ICLEVEL`"
   ]
  },
  {
   "cell_type": "code",
   "execution_count": null,
   "metadata": {
    "collapsed": false
   },
   "outputs": [],
   "source": [
    "iclevel_dt_pre_test= dt_iclevel.predict(test_ind)\n",
    "pd.DataFrame(sk_me.confusion_matrix(iclevel_dt_pre_test, test_type[['ICLEVEL']]))"
   ]
  },
  {
   "cell_type": "markdown",
   "metadata": {},
   "source": [
    "The confusion matrix for `ICLEVEL` shows that 223 observations are correctly assigned to class 0, 118 observations are correctly assigned to class 1 and 56 observations are correctly assigned to class 2."
   ]
  },
  {
   "cell_type": "markdown",
   "metadata": {},
   "source": [
    "#### 6.3.2 Accuracy score\n",
    "#### For target variable `CONTROL`"
   ]
  },
  {
   "cell_type": "code",
   "execution_count": null,
   "metadata": {
    "collapsed": false
   },
   "outputs": [],
   "source": [
    "from sklearn.cross_validation import cross_val_score\n",
    "scores = cross_val_score(estimator= dt_control,     \n",
    "                X= test_ind,  \n",
    "                y = test_target_control,      \n",
    "                scoring = \"accuracy\",               \n",
    "                cv=3)                              \n",
    "\n",
    "print(\"Accuracy per fold: \")\n",
    "print(scores)\n",
    "print(\"Average accuracy: \", scores.mean())"
   ]
  },
  {
   "cell_type": "markdown",
   "metadata": {},
   "source": [
    "From the result, we know that the average accuracy score is around 0.508, indicating that around 50.8% of observations are correctly classified. Therefore, the classifier is not performing well for `CONTROL`"
   ]
  },
  {
   "cell_type": "markdown",
   "metadata": {},
   "source": [
    "#### For target variable `ICLEVEL`"
   ]
  },
  {
   "cell_type": "code",
   "execution_count": null,
   "metadata": {
    "collapsed": false
   },
   "outputs": [],
   "source": [
    "from sklearn.cross_validation import cross_val_score\n",
    "scores = cross_val_score(estimator= dt_iclevel,     \n",
    "                X= test_ind,  \n",
    "                y = test_target_iclevel,      \n",
    "                scoring = \"accuracy\",               \n",
    "                cv=3)                              \n",
    "\n",
    "print(\"Accuracy per fold: \")\n",
    "print(scores)\n",
    "print(\"Average accuracy: \", scores.mean())"
   ]
  },
  {
   "cell_type": "markdown",
   "metadata": {},
   "source": [
    "The result tells us that the average accuracy score is around 0.44, indicating that around 44% of observations are correctly classified. Therefore, the classifier for `ICLEVEL` is performing worse than `CONTROL`."
   ]
  },
  {
   "cell_type": "markdown",
   "metadata": {},
   "source": [
    "#### 6.3.3 Precision and Recall\n",
    "#### For target variable `CONTROL`"
   ]
  },
  {
   "cell_type": "code",
   "execution_count": null,
   "metadata": {
    "collapsed": false
   },
   "outputs": [],
   "source": [
    "print(sk_me.classification_report(test_target_control, test_predict_control))"
   ]
  },
  {
   "cell_type": "markdown",
   "metadata": {},
   "source": [
    "The following table is the summary and interpretations based on the result above:\n",
    "\n",
    "| **Class** | **Precision**      | **Recall** \n",
    "| ---- |:---------------------:| :-----------------:\n",
    "|1| 92% predicted class 1 are actually in class 1|92% actual class 1 are identified as class 1\n",
    "|2| 54% predicted class 2 are actually in class 2 |26% actual class 2 are identified as class 2\n",
    "|3| 85% predicted class 3 are actually in class 3|93% actual class 3 are identified as class 3\n",
    "\n",
    "The classifier does not perform well on classifying the class 2 ( Public non-profit institutions)when applied to the test set."
   ]
  },
  {
   "cell_type": "markdown",
   "metadata": {},
   "source": [
    "#### For target variable `ICLEVEL`"
   ]
  },
  {
   "cell_type": "code",
   "execution_count": null,
   "metadata": {
    "collapsed": false
   },
   "outputs": [],
   "source": [
    "print(sk_me.classification_report(test_target_iclevel, test_predict_iclevel))"
   ]
  },
  {
   "cell_type": "markdown",
   "metadata": {},
   "source": [
    "The following table is the summary and interpretations based on the result above:\n",
    "\n",
    "| **Class** | **Precision**      | **Recall** \n",
    "| ---- |:---------------------:| :-----------------:\n",
    "|1| 67% predicted class 1 are actually in class 1|86% actual class 1 are identified as class 1\n",
    "|2| 84% predicted class 2 are actually in class 2 |51% actual class 2 are identified as class 2\n",
    "|3| 47% predicted class 3 are actually in class 3|57% actual class 3 are identified as class 3\n",
    "\n",
    "On the whole, the Decision Tree classifier performs better on classifying the level of institution (`ICLEVEL`) than on the other target variable `CONTROL`."
   ]
  },
  {
   "cell_type": "markdown",
   "metadata": {},
   "source": [
    "## 7. Non-linear SVM model \n",
    "### 7.1 Training on the training set"
   ]
  },
  {
   "cell_type": "markdown",
   "metadata": {},
   "source": [
    "Firstly we need to transform two target variables into 1d arrary in order to fit the model: "
   ]
  },
  {
   "cell_type": "markdown",
   "metadata": {},
   "source": [
    "Because Linear SVC does not support multilable classification, we would choose non-lieanr SVC. We go with the **Gaussian RBF kernel** using the SVC class.\n",
    "\n",
    "In addition to Polynomial kernel, we could add similarity features as the technique to tackle non-linear problems. This method add features computed using a similarity function, which is Gaussian *Radial Basis Function*(RBF) here."
   ]
  },
  {
   "cell_type": "markdown",
   "metadata": {},
   "source": [
    "#### 7.1.1 Logarithmic grid search of hypterparameters\n",
    "\n",
    "Two key hypterparameters of the model are `gamma` and `C`. Here we use stratified K-fold crossvalidation to set `C` and `gamma`. We use a logarithmic grid for both parameters.\n",
    "\n",
    "For an initial search, a logarithmic grid with basis 10 is often helpful. Using a basis of 2, a finer tuning can be achieved but at a much higher cost.\n",
    "\n",
    "The range we set here is:\n",
    "* `C`: 0.001~1000\n",
    "* `gamma`: 0.01~100"
   ]
  },
  {
   "cell_type": "markdown",
   "metadata": {},
   "source": [
    "#### For target variable `CONTROL`"
   ]
  },
  {
   "cell_type": "code",
   "execution_count": 53,
   "metadata": {
    "collapsed": false
   },
   "outputs": [
    {
     "name": "stderr",
     "output_type": "stream",
     "text": [
      "C:\\Users\\Chengdong Liang\\Anaconda3\\lib\\site-packages\\sklearn\\cross_validation.py:44: DeprecationWarning: This module was deprecated in version 0.18 in favor of the model_selection module into which all the refactored classes and functions are moved. Also note that the interface of the new CV iterators are different from that of this module. This module will be removed in 0.20.\n",
      "  \"This module will be removed in 0.20.\", DeprecationWarning)\n",
      "C:\\Users\\Chengdong Liang\\Anaconda3\\lib\\site-packages\\sklearn\\grid_search.py:43: DeprecationWarning: This module was deprecated in version 0.18 in favor of the model_selection module into which all the refactored classes and functions are moved. This module will be removed in 0.20.\n",
      "  DeprecationWarning)\n"
     ]
    },
    {
     "data": {
      "text/plain": [
       "{'C': 10.0, 'gamma': 10.0}"
      ]
     },
     "execution_count": 53,
     "metadata": {},
     "output_type": "execute_result"
    }
   ],
   "source": [
    "from sklearn.svm import SVC\n",
    "from sklearn.cross_validation import StratifiedKFold\n",
    "from sklearn.grid_search import GridSearchCV\n",
    "\n",
    "C_range = 10. ** np.arange(-3, 3)\n",
    "gamma_range = 10. ** np.arange(-2, 2)\n",
    "\n",
    "param_grid = dict(gamma=gamma_range, C=C_range)\n",
    "\n",
    "grid_control = GridSearchCV(SVC(), param_grid=param_grid, cv=StratifiedKFold(y=train_target_control, n_folds =5))\n",
    "\n",
    "grid_control.fit(college_ind, train_target_control)\n",
    "\n",
    "grid_control.best_params_"
   ]
  },
  {
   "cell_type": "markdown",
   "metadata": {},
   "source": [
    "#### For target variable `ICLEVEL`"
   ]
  },
  {
   "cell_type": "code",
   "execution_count": 54,
   "metadata": {
    "collapsed": false
   },
   "outputs": [
    {
     "data": {
      "text/plain": [
       "{'C': 10.0, 'gamma': 10.0}"
      ]
     },
     "execution_count": 54,
     "metadata": {},
     "output_type": "execute_result"
    }
   ],
   "source": [
    "from sklearn.svm import SVC\n",
    "from sklearn.cross_validation import StratifiedKFold\n",
    "from sklearn.grid_search import GridSearchCV\n",
    "\n",
    "C_range = 10. ** np.arange(-3, 3)\n",
    "gamma_range = 10. ** np.arange(-2, 2)\n",
    "\n",
    "param_grid = dict(gamma=gamma_range, C=C_range)\n",
    "\n",
    "grid_iclevel = GridSearchCV(SVC(), param_grid=param_grid, cv=StratifiedKFold(y=train_target_iclevel, n_folds =5))\n",
    "\n",
    "grid_iclevel.fit(college_ind, train_target_iclevel)\n",
    "\n",
    "grid_iclevel.best_params_"
   ]
  },
  {
   "cell_type": "markdown",
   "metadata": {},
   "source": [
    "#### 7.1.2 Fitting the model"
   ]
  },
  {
   "cell_type": "markdown",
   "metadata": {},
   "source": [
    "#### SVM model of `CONTROL`"
   ]
  },
  {
   "cell_type": "code",
   "execution_count": 55,
   "metadata": {
    "collapsed": false
   },
   "outputs": [
    {
     "data": {
      "text/plain": [
       "Pipeline(steps=(('scaler', StandardScaler(copy=True, with_mean=True, with_std=True)), ('svm_clf', SVC(C=10, cache_size=200, class_weight=None, coef0=0.0,\n",
       "  decision_function_shape=None, degree=3, gamma=10, kernel='rbf',\n",
       "  max_iter=-1, probability=False, random_state=None, shrinking=True,\n",
       "  tol=0.001, verbose=False))))"
      ]
     },
     "execution_count": 55,
     "metadata": {},
     "output_type": "execute_result"
    }
   ],
   "source": [
    "from sklearn.pipeline import Pipeline\n",
    "from sklearn.preprocessing import StandardScaler\n",
    "\n",
    "rbf_svm_control = Pipeline((\n",
    "(\"scaler\", StandardScaler()),\n",
    "(\"svm_clf\", SVC(kernel=\"rbf\", gamma=10, C=10))\n",
    "))\n",
    "\n",
    "rbf_svm_control.fit(college_ind, train_target_control)"
   ]
  },
  {
   "cell_type": "markdown",
   "metadata": {},
   "source": [
    "#### SVM model of `ICLEVEL`"
   ]
  },
  {
   "cell_type": "code",
   "execution_count": 56,
   "metadata": {
    "collapsed": false
   },
   "outputs": [
    {
     "data": {
      "text/plain": [
       "Pipeline(steps=(('scaler', StandardScaler(copy=True, with_mean=True, with_std=True)), ('svm_clf', SVC(C=10, cache_size=200, class_weight=None, coef0=0.0,\n",
       "  decision_function_shape=None, degree=3, gamma=10, kernel='rbf',\n",
       "  max_iter=-1, probability=False, random_state=None, shrinking=True,\n",
       "  tol=0.001, verbose=False))))"
      ]
     },
     "execution_count": 56,
     "metadata": {},
     "output_type": "execute_result"
    }
   ],
   "source": [
    "rbf_svm_iclevel = Pipeline((\n",
    "(\"scaler\", StandardScaler()),\n",
    "(\"svm_clf\", SVC(kernel=\"rbf\", gamma=10, C=10))\n",
    "))\n",
    "\n",
    "rbf_svm_iclevel.fit(college_ind, train_target_iclevel)"
   ]
  },
  {
   "cell_type": "markdown",
   "metadata": {},
   "source": [
    "### 7.3 Model evaluation on the test set\n",
    "\n",
    "#### 7.3.1 Confusion matrix\n",
    "#### For target variable `CONTROL`"
   ]
  },
  {
   "cell_type": "code",
   "execution_count": 68,
   "metadata": {
    "collapsed": false
   },
   "outputs": [
    {
     "data": {
      "text/html": [
       "<div>\n",
       "<table border=\"1\" class=\"dataframe\">\n",
       "  <thead>\n",
       "    <tr style=\"text-align: right;\">\n",
       "      <th></th>\n",
       "      <th>0</th>\n",
       "      <th>1</th>\n",
       "      <th>2</th>\n",
       "    </tr>\n",
       "  </thead>\n",
       "  <tbody>\n",
       "    <tr>\n",
       "      <th>0</th>\n",
       "      <td>123</td>\n",
       "      <td>0</td>\n",
       "      <td>0</td>\n",
       "    </tr>\n",
       "    <tr>\n",
       "      <th>1</th>\n",
       "      <td>0</td>\n",
       "      <td>13</td>\n",
       "      <td>0</td>\n",
       "    </tr>\n",
       "    <tr>\n",
       "      <th>2</th>\n",
       "      <td>115</td>\n",
       "      <td>40</td>\n",
       "      <td>300</td>\n",
       "    </tr>\n",
       "  </tbody>\n",
       "</table>\n",
       "</div>"
      ],
      "text/plain": [
       "     0   1    2\n",
       "0  123   0    0\n",
       "1    0  13    0\n",
       "2  115  40  300"
      ]
     },
     "execution_count": 68,
     "metadata": {},
     "output_type": "execute_result"
    }
   ],
   "source": [
    "control_svm_pre_test= rbf_svm_control.predict(test_ind)\n",
    "control_svm_pre_train= rbf_svm_control.predict(college_ind)\n",
    "\n",
    "pd.DataFrame(sk_me.confusion_matrix(control_svm_pre_test, \n",
    "                       test_type[['CONTROL']]))"
   ]
  },
  {
   "cell_type": "markdown",
   "metadata": {},
   "source": [
    "From the result, we know that 123 observations are correctly assigned to class 0, 13 observations are correctly assigned to class 1 and 300 observations are correctly assigned to class 2. The classifier does not perform very well on classifying class 0. Nearly 50% of observations that should belong to class 0 are mis-classified. "
   ]
  },
  {
   "cell_type": "markdown",
   "metadata": {},
   "source": [
    "#### For target variable `ICLEVEL`"
   ]
  },
  {
   "cell_type": "code",
   "execution_count": 69,
   "metadata": {
    "collapsed": false
   },
   "outputs": [
    {
     "data": {
      "text/html": [
       "<div>\n",
       "<table border=\"1\" class=\"dataframe\">\n",
       "  <thead>\n",
       "    <tr style=\"text-align: right;\">\n",
       "      <th></th>\n",
       "      <th>0</th>\n",
       "      <th>1</th>\n",
       "      <th>2</th>\n",
       "    </tr>\n",
       "  </thead>\n",
       "  <tbody>\n",
       "    <tr>\n",
       "      <th>0</th>\n",
       "      <td>247</td>\n",
       "      <td>103</td>\n",
       "      <td>34</td>\n",
       "    </tr>\n",
       "    <tr>\n",
       "      <th>1</th>\n",
       "      <td>13</td>\n",
       "      <td>112</td>\n",
       "      <td>4</td>\n",
       "    </tr>\n",
       "    <tr>\n",
       "      <th>2</th>\n",
       "      <td>0</td>\n",
       "      <td>17</td>\n",
       "      <td>61</td>\n",
       "    </tr>\n",
       "  </tbody>\n",
       "</table>\n",
       "</div>"
      ],
      "text/plain": [
       "     0    1   2\n",
       "0  247  103  34\n",
       "1   13  112   4\n",
       "2    0   17  61"
      ]
     },
     "execution_count": 69,
     "metadata": {},
     "output_type": "execute_result"
    }
   ],
   "source": [
    "iclevel_svm_pre_test= rbf_svm_iclevel.predict(test_ind)\n",
    "iclevel_svm_pre_train= rbf_svm_iclevel.predict(college_ind)\n",
    "\n",
    "pd.DataFrame(sk_me.confusion_matrix(iclevel_svm_pre_test, \n",
    "                       test_type[['ICLEVEL']]))"
   ]
  },
  {
   "cell_type": "markdown",
   "metadata": {},
   "source": [
    "From the result, we know that 247 observations are correctly assigned to class 0, 112 observations are correctly assigned to class 1 and 61 observations are correctly assigned to class 2."
   ]
  },
  {
   "cell_type": "markdown",
   "metadata": {},
   "source": [
    "#### 7.3.2 Accuracy score\n",
    "#### For target variable `CONTROL`"
   ]
  },
  {
   "cell_type": "markdown",
   "metadata": {},
   "source": [
    "The following chunk is used to get the accuracy score for target variable `CONTROL` on the test set. "
   ]
  },
  {
   "cell_type": "code",
   "execution_count": 70,
   "metadata": {
    "collapsed": false
   },
   "outputs": [
    {
     "name": "stdout",
     "output_type": "stream",
     "text": [
      "Accuracy score: 0.737732656514\n"
     ]
    }
   ],
   "source": [
    "print (\"Accuracy score:\", accuracy_score(test_target_control, control_svm_pre_test))"
   ]
  },
  {
   "cell_type": "markdown",
   "metadata": {},
   "source": [
    "From the result, we know that the average accuracy score is around 0.7377, indicating that around 73.77% of observations are correctly classified on test set. Therefore, the classifier is not bad."
   ]
  },
  {
   "cell_type": "markdown",
   "metadata": {},
   "source": [
    "#### For target variable `ICLEVEL`"
   ]
  },
  {
   "cell_type": "code",
   "execution_count": 71,
   "metadata": {
    "collapsed": false
   },
   "outputs": [
    {
     "name": "stdout",
     "output_type": "stream",
     "text": [
      "Accuracy score: 0.710659898477\n"
     ]
    }
   ],
   "source": [
    "print (\"Accuracy score:\", accuracy_score(test_target_iclevel, iclevel_svm_pre_test))"
   ]
  },
  {
   "cell_type": "markdown",
   "metadata": {},
   "source": [
    "From the result, we know that the average accuracy score is around 0.7107. It means that around 71.07% of observations were correctly classified on test set, which indicates the classifier performs well on classifying the target variable `ICLEVEL`."
   ]
  },
  {
   "cell_type": "markdown",
   "metadata": {},
   "source": [
    "#### 7.3.3 Precision and Recall\n",
    "#### For target variable `CONTROL`"
   ]
  },
  {
   "cell_type": "code",
   "execution_count": 72,
   "metadata": {
    "collapsed": false
   },
   "outputs": [
    {
     "name": "stdout",
     "output_type": "stream",
     "text": [
      "             precision    recall  f1-score   support\n",
      "\n",
      "          1       1.00      0.52      0.68       238\n",
      "          2       1.00      0.25      0.39        53\n",
      "          3       0.66      1.00      0.79       300\n",
      "\n",
      "avg / total       0.83      0.74      0.71       591\n",
      "\n"
     ]
    }
   ],
   "source": [
    "print(sk_me.classification_report(test_target_control, control_svm_pre_test))"
   ]
  },
  {
   "cell_type": "markdown",
   "metadata": {},
   "source": [
    "The following table is the summary and interpretations based on the result above:\n",
    "\n",
    "| **Class** | **Precision**      | **Recall** \n",
    "| ---- |:---------------------:| :-----------------:\n",
    "|1| 100% predicted class 1 are actually in class 1|52% actual class 1 are identified as class 1\n",
    "|2| 100% predicted class 2 are actually in class 2 |25% actual class 2 are identified as class 2\n",
    "|3| 66% predicted class 3 are actually in class 3|100% actual class 3 are identified as class 3\n",
    "\n",
    "The classifier performance is not as well as before in the train set when it comes to the test set."
   ]
  },
  {
   "cell_type": "markdown",
   "metadata": {},
   "source": [
    "#### For target variable `ICLEVEL`"
   ]
  },
  {
   "cell_type": "code",
   "execution_count": 73,
   "metadata": {
    "collapsed": false
   },
   "outputs": [
    {
     "name": "stdout",
     "output_type": "stream",
     "text": [
      "             precision    recall  f1-score   support\n",
      "\n",
      "          1       0.64      0.95      0.77       260\n",
      "          2       0.87      0.48      0.62       232\n",
      "          3       0.78      0.62      0.69        99\n",
      "\n",
      "avg / total       0.75      0.71      0.70       591\n",
      "\n"
     ]
    }
   ],
   "source": [
    "print(sk_me.classification_report(test_target_iclevel, iclevel_svm_pre_test))"
   ]
  },
  {
   "cell_type": "markdown",
   "metadata": {},
   "source": [
    "The following table is the summary and interpretations based on the result above:\n",
    "\n",
    "| **Class** | **Precision**      | **Recall** \n",
    "| ---- |:---------------------:| :-----------------:\n",
    "|1| 64% predicted class 1 are actually in class 1|95% actual class 1 are identified as class 1\n",
    "|2| 87% predicted class 2 are actually in class 2 |48% actual class 2 are identified as class 2\n",
    "|3| 78% predicted class 3 are actually in class 3|62% actual class 3 are identified as class 3\n",
    "\n",
    "As a whole, the classifier does not perform very well on classifying the level of institution (`ICLEVEL`)."
   ]
  },
  {
   "cell_type": "markdown",
   "metadata": {},
   "source": [
    "## 8. Overfitting\n",
    "Overfitting occurs when the model fit the training set too well because the model captures the detail and noise in the training set that are not included in the test set; thus negatively impacting the performance of the model on test set. \n",
    "\n",
    "We will find out whether the model is overfitting by comparing the evaluations on the training set the test set. If the evaluations are the similar, the model has low risk of overfitting; otherwise, the model has high risk of overfitting. \n",
    "\n",
    "We need using cross-validation to get the accuracy score for the train set to avoid over-fitting. \n",
    "\n",
    "Since we have done the evaluation on the test set for each classifier, we will simply evaluate the training set by calcuating the accuracy rate with cross validation in this section for the comparision. "
   ]
  },
  {
   "cell_type": "markdown",
   "metadata": {},
   "source": [
    "### 8.1 Logistic regression"
   ]
  },
  {
   "cell_type": "markdown",
   "metadata": {},
   "source": [
    "#### For target variable `CONTROL`"
   ]
  },
  {
   "cell_type": "code",
   "execution_count": 40,
   "metadata": {
    "collapsed": false
   },
   "outputs": [
    {
     "name": "stdout",
     "output_type": "stream",
     "text": [
      "Accuracy per fold: \n",
      "[ 0.8023369   0.82327167  0.8067186 ]\n",
      "Average accuracy:  0.810775722168\n"
     ]
    },
    {
     "name": "stderr",
     "output_type": "stream",
     "text": [
      "C:\\Users\\katri\\Anaconda3\\lib\\site-packages\\sklearn\\cross_validation.py:44: DeprecationWarning: This module was deprecated in version 0.18 in favor of the model_selection module into which all the refactored classes and functions are moved. Also note that the interface of the new CV iterators are different from that of this module. This module will be removed in 0.20.\n",
      "  \"This module will be removed in 0.20.\", DeprecationWarning)\n"
     ]
    }
   ],
   "source": [
    "from sklearn.cross_validation import cross_val_score\n",
    "scores = cross_val_score(estimator= train_fit_control,     # Model to test\n",
    "                X= college_ind,  \n",
    "                y = train_target_control,      # Target variable\n",
    "                scoring = \"accuracy\",               # Scoring metric    \n",
    "                cv=3)                              # Cross validation folds\n",
    "\n",
    "print(\"Accuracy per fold: \")\n",
    "print(scores)\n",
    "print(\"Average accuracy: \", scores.mean())"
   ]
  },
  {
   "cell_type": "markdown",
   "metadata": {},
   "source": [
    "For the evaluation on the test set, the average accuracy rate is around 0.8917, which is similar to the average accuracy rate of the training set (0.8108). Therefore, the model has low risk of overfitting when predicting the target variable `CONTROL`. "
   ]
  },
  {
   "cell_type": "markdown",
   "metadata": {},
   "source": [
    "#### For target variable `ICLEVEL`"
   ]
  },
  {
   "cell_type": "code",
   "execution_count": 41,
   "metadata": {
    "collapsed": false
   },
   "outputs": [
    {
     "name": "stdout",
     "output_type": "stream",
     "text": [
      "Accuracy per fold: \n",
      "[ 0.65656566  0.64974619  0.6377551 ]\n",
      "Average accuracy:  0.648022317167\n"
     ]
    }
   ],
   "source": [
    "from sklearn.cross_validation import cross_val_score\n",
    "scores = cross_val_score(estimator= train_fit_iclevel,     # Model to test\n",
    "                X= test_ind,  \n",
    "                y = test_target_iclevel,      # Target variable\n",
    "                scoring = \"accuracy\",               # Scoring metric    \n",
    "                cv=3)                              # Cross validation folds\n",
    "\n",
    "print(\"Accuracy per fold: \")\n",
    "print(scores)\n",
    "print(\"Average accuracy: \", scores.mean())"
   ]
  },
  {
   "cell_type": "markdown",
   "metadata": {},
   "source": [
    "For the evaluation on the test set, the average accuracy rate is around 0.6227, which is similar to the average accuracy rate of the training set (0.6480). Therefore, the model has low risk of overfitting when predicting the target variable `ICLEVEL`."
   ]
  },
  {
   "cell_type": "markdown",
   "metadata": {},
   "source": [
    "### 8.3 SVM model"
   ]
  },
  {
   "cell_type": "markdown",
   "metadata": {},
   "source": [
    "#### For target variable `CONTROL`"
   ]
  },
  {
   "cell_type": "code",
   "execution_count": 80,
   "metadata": {
    "collapsed": false
   },
   "outputs": [
    {
     "name": "stdout",
     "output_type": "stream",
     "text": [
      "Accuracy per fold: \n",
      "[ 0.6134372   0.593963    0.59883155]\n",
      "Average accuracy:  0.602077247647\n"
     ]
    }
   ],
   "source": [
    "from sklearn.cross_validation import cross_val_score\n",
    "scores = cross_val_score(estimator= rbf_svm_control,     # Model to test\n",
    "                X= college_ind,  \n",
    "                y = train_target_control,      # Target variable\n",
    "                scoring = \"accuracy\",               # Scoring metric    \n",
    "                cv=3)                              # Cross validation folds\n",
    "\n",
    "print(\"Accuracy per fold: \")\n",
    "print(scores)\n",
    "print(\"Average accuracy: \", scores.mean())"
   ]
  },
  {
   "cell_type": "markdown",
   "metadata": {},
   "source": [
    "For the evaluation on the test set, the average accuracy rate is around 0.7377, which is even higher than the average accuracy rate of the training set (0.6021). Therefore, the model has low risk of overfitting when predicting the target variable `CONTROL`. "
   ]
  },
  {
   "cell_type": "markdown",
   "metadata": {},
   "source": [
    "#### For target variable `ICLEVEL`"
   ]
  },
  {
   "cell_type": "code",
   "execution_count": 82,
   "metadata": {
    "collapsed": false
   },
   "outputs": [
    {
     "name": "stdout",
     "output_type": "stream",
     "text": [
      "Accuracy per fold: \n",
      "[ 0.60145985  0.5647517   0.57135899]\n",
      "Average accuracy:  0.579190181618\n"
     ]
    }
   ],
   "source": [
    "from sklearn.cross_validation import cross_val_score\n",
    "scores = cross_val_score(estimator= rbf_svm_iclevel,     # Model to test\n",
    "                X= college_ind,  \n",
    "                y = train_target_iclevel,      # Target variable\n",
    "                scoring = \"accuracy\",               # Scoring metric    \n",
    "                cv=3)                              # Cross validation folds\n",
    "\n",
    "print(\"Accuracy per fold: \")\n",
    "print(scores)\n",
    "print(\"Average accuracy: \", scores.mean())"
   ]
  },
  {
   "cell_type": "markdown",
   "metadata": {},
   "source": [
    "For the evaluation on the test set, the average accuracy rate is around 0.7107, which is even higher than the average accuracy rate of the training set (0.5792). Therefore, the model is not overfitting when predicting the target variable `ICLEVEL`."
   ]
  },
  {
   "cell_type": "markdown",
   "metadata": {},
   "source": [
    "We could conclude from above that the SVM model for both target variable `CONTROL` and `ICLEVEL` are not over-fitting."
   ]
  },
  {
   "cell_type": "markdown",
   "metadata": {},
   "source": [
    "## 9. Comparing the performance of the models"
   ]
  },
  {
   "cell_type": "markdown",
   "metadata": {},
   "source": [
    "The following table is the summary of all models with different evaluation index.\n",
    "\n",
    "#### For target variable `CONTROL`\n",
    "\n",
    "| **Model** | **Accuarcy**| **Precision**  | **Recall** |**f1-score**\n",
    "| ------------- |:-------------:| -----------:| -----------:|-----------:\n",
    "|Logistic Regression| 0.8917|0.89    |  0.89 |0.89|\n",
    "|Decision Tree| 0.507 | 0.85|0.87 |0.85| \n",
    "|SVM| 0.74 | 0.83| 0.74|0.71 |\n",
    "\n",
    "From the summary, as shown in the table above, we know that the Logistic Regression performs best among these models when classifying the target variable `CONTROL`, since it has highest accuracy rate, precision, recall as well as f1-score.\n",
    "\n",
    "\n",
    "#### For target variable `ICLEVEL`\n",
    "\n",
    "| **Model** | **Accuarcy**| **Precision**  | **Recall** |**f1-score**\n",
    "| ------------- |:-------------:| -----------:| -----------:|-----------:|-----------:\n",
    "|Logistic Regression| 0.6227|0.67|0.62|0.62\n",
    "|Decision Tree| 0.44 |0.70 |0.67 |0.67 | \n",
    "|SVM|0.71  | 0.75|0.71 | 0.70| \n",
    "\n",
    "From the summary table, as shown above, we know that the Support Vector Machine (SVM) is more likely to perform better than the other two techniques when classifying the target variable `ICLEVEL`, since it has highest precision, recall as well as f1-score. Logistic Regression gives the highest accuracy rate for the target variable `ICLEVEL`."
   ]
  },
  {
   "cell_type": "markdown",
   "metadata": {},
   "source": [
    "## 10. Conclusion"
   ]
  },
  {
   "cell_type": "markdown",
   "metadata": {
    "collapsed": true
   },
   "source": [
    "Classification is the process of classifying data into different categories. The performance of the classifier can be evaluated through accuracy, mis-classification rate among other metrics. \n",
    "\n",
    "In our project, we have trained and fitted three models: Logistic Regression, Decision Tree and Support Vector Machine. Apart from comparing them based on the objective criteria such as F1 score, precision and recall, it is equally important to understand the applicability of each of these models to the data. In order to do so, we have tried to understand the pros and cons for each model when doing the data classification, which has been summarized below: \n",
    "\n",
    "**For Logistic Regression: **\n",
    "* Pros:\n",
    "    * Probability scores of observations can be calculated to predict a class\n",
    "    * L1 regularization helps with feature selections\n",
    "    * L2 regularization helps deal with the multicollinearity\n",
    "    * Cost function can be minimized and converge to the error rate\n",
    "    * Suitable for a high dimensional data\n",
    "    * Able to handle large data\n",
    "* Cons:\n",
    "    * Unable to deal with too many features (categorical variables) and missing values\n",
    "    * Requires transformations for some non-linear features\n",
    "    * Unable to handle too large feature space\n",
    "\n",
    "**For Decision Tree: **\n",
    "* Pros:\n",
    "    * Able to deal with non-linear features \n",
    "    * Able to handle any number of categorical variables \n",
    "    * Able to use class probabilities for the terminal nodes \n",
    "    * Interactions between variables\n",
    "    * Overfitting issues can be solved by using Random Forests\n",
    "* Cons:\n",
    "    * Probability scores cannot be directly used for classification, so the model is highly biased to the training set (e.g. outperform on training set but underperform on test set)\n",
    "    * Inefficient if there is no or weak interactions between variables\n",
    "\n",
    "**For Support Vector Machine: **\n",
    "* Pros:\n",
    "    * Able to deal with large feature space\n",
    "    * Able to handle non-linear features\n",
    "    * Able to handle missing values for the specific case\n",
    "* Cons:\n",
    "    * Inefficient when dealing with large number of data\n",
    "    * Needs time to find an appropriate kernel\n",
    "    \n",
    "Based on the qualitative and quantitative comparison of the three classifiers, we were able to conclude that the Logistic regression works best for classifying the target variable `CONTROL` and the Support Vector Machine is the preferred choice for classifying the target variables `ICLEVEL`."
   ]
  }
 ],
 "metadata": {
  "anaconda-cloud": {},
  "kernelspec": {
   "display_name": "Python [default]",
   "language": "python",
   "name": "python3"
  },
  "language_info": {
   "codemirror_mode": {
    "name": "ipython",
    "version": 3
   },
   "file_extension": ".py",
   "mimetype": "text/x-python",
   "name": "python",
   "nbconvert_exporter": "python",
   "pygments_lexer": "ipython3",
   "version": "3.5.2"
  }
 },
 "nbformat": 4,
 "nbformat_minor": 1
}
